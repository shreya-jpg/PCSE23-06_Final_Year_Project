{
  "nbformat": 4,
  "nbformat_minor": 0,
  "metadata": {
    "colab": {
      "provenance": []
    },
    "kernelspec": {
      "name": "python3",
      "display_name": "Python 3"
    },
    "language_info": {
      "name": "python"
    },
    "gpuClass": "standard",
    "accelerator": "GPU"
  },
  "cells": [
    {
      "cell_type": "code",
      "execution_count": 26,
      "metadata": {
        "id": "NR_O4pK4CnhB",
        "colab": {
          "base_uri": "https://localhost:8080/"
        },
        "outputId": "661decbe-6924-4088-c817-2b4c59dfaa76"
      },
      "outputs": [
        {
          "output_type": "stream",
          "name": "stdout",
          "text": [
            "Drive already mounted at /content/drive; to attempt to forcibly remount, call drive.mount(\"/content/drive\", force_remount=True).\n"
          ]
        }
      ],
      "source": [
        "# mount google drive \n",
        "from google.colab import drive\n",
        "drive.mount('/content/drive')"
      ]
    },
    {
      "cell_type": "code",
      "source": [
        "# Extract dataset from zip file\n",
        "import zipfile\n",
        "import os\n",
        "\n",
        "zip_ref = zipfile.ZipFile('/content/drive/MyDrive/daataset.zip', 'r') #Opens the zip file in read mode\n",
        "zip_ref.extractall('/data')\n",
        "zip_ref.close()"
      ],
      "metadata": {
        "id": "br7xRj8jFJxr"
      },
      "execution_count": 27,
      "outputs": []
    },
    {
      "cell_type": "code",
      "source": [
        "# importing libraries\n",
        "import pandas as pd\n",
        "import numpy as np\n",
        "import random\n",
        "import matplotlib.pyplot as plt"
      ],
      "metadata": {
        "id": "4gSOQDt9mARR"
      },
      "execution_count": 28,
      "outputs": []
    },
    {
      "cell_type": "code",
      "source": [
        "# Reading the training and test CSV files\n",
        "train = pd.read_csv('/data/sign_mnist_train.csv')\n",
        "test = pd.read_csv('/data/sign_mnist_test.csv')"
      ],
      "metadata": {
        "id": "xBHYHCI2ovps"
      },
      "execution_count": 29,
      "outputs": []
    },
    {
      "cell_type": "code",
      "source": [
        "train.info()"
      ],
      "metadata": {
        "colab": {
          "base_uri": "https://localhost:8080/"
        },
        "id": "8ZpeJqYrQpK2",
        "outputId": "d5b3dd96-105c-44a4-e26a-bd9a21cd2d91"
      },
      "execution_count": 30,
      "outputs": [
        {
          "output_type": "stream",
          "name": "stdout",
          "text": [
            "<class 'pandas.core.frame.DataFrame'>\n",
            "RangeIndex: 27455 entries, 0 to 27454\n",
            "Columns: 785 entries, label to pixel784\n",
            "dtypes: int64(785)\n",
            "memory usage: 164.4 MB\n"
          ]
        }
      ]
    },
    {
      "cell_type": "code",
      "source": [
        "# check the shape of the training and test data that we have read above\n",
        "print(train.shape)\n",
        "print(test.shape)"
      ],
      "metadata": {
        "colab": {
          "base_uri": "https://localhost:8080/"
        },
        "id": "gvyK4GlwpTvH",
        "outputId": "5833ddf6-57dd-40a1-d7b7-87b85b8a421e"
      },
      "execution_count": 31,
      "outputs": [
        {
          "output_type": "stream",
          "name": "stdout",
          "text": [
            "(27455, 785)\n",
            "(7172, 785)\n"
          ]
        }
      ]
    },
    {
      "cell_type": "code",
      "source": [
        "# checking the training data to verify class labels and columns representing pixels\n",
        "train.head()"
      ],
      "metadata": {
        "colab": {
          "base_uri": "https://localhost:8080/",
          "height": 300
        },
        "id": "5Z-XypGmpa9V",
        "outputId": "d2c25fac-6557-40ef-d39a-240f593c3c09"
      },
      "execution_count": 32,
      "outputs": [
        {
          "output_type": "execute_result",
          "data": {
            "text/plain": [
              "   label  pixel1  pixel2  pixel3  pixel4  pixel5  pixel6  pixel7  pixel8  \\\n",
              "0      3     107     118     127     134     139     143     146     150   \n",
              "1      6     155     157     156     156     156     157     156     158   \n",
              "2      2     187     188     188     187     187     186     187     188   \n",
              "3      2     211     211     212     212     211     210     211     210   \n",
              "4     13     164     167     170     172     176     179     180     184   \n",
              "\n",
              "   pixel9  ...  pixel775  pixel776  pixel777  pixel778  pixel779  pixel780  \\\n",
              "0     153  ...       207       207       207       207       206       206   \n",
              "1     158  ...        69       149       128        87        94       163   \n",
              "2     187  ...       202       201       200       199       198       199   \n",
              "3     210  ...       235       234       233       231       230       226   \n",
              "4     185  ...        92       105       105       108       133       163   \n",
              "\n",
              "   pixel781  pixel782  pixel783  pixel784  \n",
              "0       206       204       203       202  \n",
              "1       175       103       135       149  \n",
              "2       198       195       194       195  \n",
              "3       225       222       229       163  \n",
              "4       157       163       164       179  \n",
              "\n",
              "[5 rows x 785 columns]"
            ],
            "text/html": [
              "\n",
              "  <div id=\"df-ab785c18-f9ae-4e76-91d6-4a53d23ef9ed\">\n",
              "    <div class=\"colab-df-container\">\n",
              "      <div>\n",
              "<style scoped>\n",
              "    .dataframe tbody tr th:only-of-type {\n",
              "        vertical-align: middle;\n",
              "    }\n",
              "\n",
              "    .dataframe tbody tr th {\n",
              "        vertical-align: top;\n",
              "    }\n",
              "\n",
              "    .dataframe thead th {\n",
              "        text-align: right;\n",
              "    }\n",
              "</style>\n",
              "<table border=\"1\" class=\"dataframe\">\n",
              "  <thead>\n",
              "    <tr style=\"text-align: right;\">\n",
              "      <th></th>\n",
              "      <th>label</th>\n",
              "      <th>pixel1</th>\n",
              "      <th>pixel2</th>\n",
              "      <th>pixel3</th>\n",
              "      <th>pixel4</th>\n",
              "      <th>pixel5</th>\n",
              "      <th>pixel6</th>\n",
              "      <th>pixel7</th>\n",
              "      <th>pixel8</th>\n",
              "      <th>pixel9</th>\n",
              "      <th>...</th>\n",
              "      <th>pixel775</th>\n",
              "      <th>pixel776</th>\n",
              "      <th>pixel777</th>\n",
              "      <th>pixel778</th>\n",
              "      <th>pixel779</th>\n",
              "      <th>pixel780</th>\n",
              "      <th>pixel781</th>\n",
              "      <th>pixel782</th>\n",
              "      <th>pixel783</th>\n",
              "      <th>pixel784</th>\n",
              "    </tr>\n",
              "  </thead>\n",
              "  <tbody>\n",
              "    <tr>\n",
              "      <th>0</th>\n",
              "      <td>3</td>\n",
              "      <td>107</td>\n",
              "      <td>118</td>\n",
              "      <td>127</td>\n",
              "      <td>134</td>\n",
              "      <td>139</td>\n",
              "      <td>143</td>\n",
              "      <td>146</td>\n",
              "      <td>150</td>\n",
              "      <td>153</td>\n",
              "      <td>...</td>\n",
              "      <td>207</td>\n",
              "      <td>207</td>\n",
              "      <td>207</td>\n",
              "      <td>207</td>\n",
              "      <td>206</td>\n",
              "      <td>206</td>\n",
              "      <td>206</td>\n",
              "      <td>204</td>\n",
              "      <td>203</td>\n",
              "      <td>202</td>\n",
              "    </tr>\n",
              "    <tr>\n",
              "      <th>1</th>\n",
              "      <td>6</td>\n",
              "      <td>155</td>\n",
              "      <td>157</td>\n",
              "      <td>156</td>\n",
              "      <td>156</td>\n",
              "      <td>156</td>\n",
              "      <td>157</td>\n",
              "      <td>156</td>\n",
              "      <td>158</td>\n",
              "      <td>158</td>\n",
              "      <td>...</td>\n",
              "      <td>69</td>\n",
              "      <td>149</td>\n",
              "      <td>128</td>\n",
              "      <td>87</td>\n",
              "      <td>94</td>\n",
              "      <td>163</td>\n",
              "      <td>175</td>\n",
              "      <td>103</td>\n",
              "      <td>135</td>\n",
              "      <td>149</td>\n",
              "    </tr>\n",
              "    <tr>\n",
              "      <th>2</th>\n",
              "      <td>2</td>\n",
              "      <td>187</td>\n",
              "      <td>188</td>\n",
              "      <td>188</td>\n",
              "      <td>187</td>\n",
              "      <td>187</td>\n",
              "      <td>186</td>\n",
              "      <td>187</td>\n",
              "      <td>188</td>\n",
              "      <td>187</td>\n",
              "      <td>...</td>\n",
              "      <td>202</td>\n",
              "      <td>201</td>\n",
              "      <td>200</td>\n",
              "      <td>199</td>\n",
              "      <td>198</td>\n",
              "      <td>199</td>\n",
              "      <td>198</td>\n",
              "      <td>195</td>\n",
              "      <td>194</td>\n",
              "      <td>195</td>\n",
              "    </tr>\n",
              "    <tr>\n",
              "      <th>3</th>\n",
              "      <td>2</td>\n",
              "      <td>211</td>\n",
              "      <td>211</td>\n",
              "      <td>212</td>\n",
              "      <td>212</td>\n",
              "      <td>211</td>\n",
              "      <td>210</td>\n",
              "      <td>211</td>\n",
              "      <td>210</td>\n",
              "      <td>210</td>\n",
              "      <td>...</td>\n",
              "      <td>235</td>\n",
              "      <td>234</td>\n",
              "      <td>233</td>\n",
              "      <td>231</td>\n",
              "      <td>230</td>\n",
              "      <td>226</td>\n",
              "      <td>225</td>\n",
              "      <td>222</td>\n",
              "      <td>229</td>\n",
              "      <td>163</td>\n",
              "    </tr>\n",
              "    <tr>\n",
              "      <th>4</th>\n",
              "      <td>13</td>\n",
              "      <td>164</td>\n",
              "      <td>167</td>\n",
              "      <td>170</td>\n",
              "      <td>172</td>\n",
              "      <td>176</td>\n",
              "      <td>179</td>\n",
              "      <td>180</td>\n",
              "      <td>184</td>\n",
              "      <td>185</td>\n",
              "      <td>...</td>\n",
              "      <td>92</td>\n",
              "      <td>105</td>\n",
              "      <td>105</td>\n",
              "      <td>108</td>\n",
              "      <td>133</td>\n",
              "      <td>163</td>\n",
              "      <td>157</td>\n",
              "      <td>163</td>\n",
              "      <td>164</td>\n",
              "      <td>179</td>\n",
              "    </tr>\n",
              "  </tbody>\n",
              "</table>\n",
              "<p>5 rows × 785 columns</p>\n",
              "</div>\n",
              "      <button class=\"colab-df-convert\" onclick=\"convertToInteractive('df-ab785c18-f9ae-4e76-91d6-4a53d23ef9ed')\"\n",
              "              title=\"Convert this dataframe to an interactive table.\"\n",
              "              style=\"display:none;\">\n",
              "        \n",
              "  <svg xmlns=\"http://www.w3.org/2000/svg\" height=\"24px\"viewBox=\"0 0 24 24\"\n",
              "       width=\"24px\">\n",
              "    <path d=\"M0 0h24v24H0V0z\" fill=\"none\"/>\n",
              "    <path d=\"M18.56 5.44l.94 2.06.94-2.06 2.06-.94-2.06-.94-.94-2.06-.94 2.06-2.06.94zm-11 1L8.5 8.5l.94-2.06 2.06-.94-2.06-.94L8.5 2.5l-.94 2.06-2.06.94zm10 10l.94 2.06.94-2.06 2.06-.94-2.06-.94-.94-2.06-.94 2.06-2.06.94z\"/><path d=\"M17.41 7.96l-1.37-1.37c-.4-.4-.92-.59-1.43-.59-.52 0-1.04.2-1.43.59L10.3 9.45l-7.72 7.72c-.78.78-.78 2.05 0 2.83L4 21.41c.39.39.9.59 1.41.59.51 0 1.02-.2 1.41-.59l7.78-7.78 2.81-2.81c.8-.78.8-2.07 0-2.86zM5.41 20L4 18.59l7.72-7.72 1.47 1.35L5.41 20z\"/>\n",
              "  </svg>\n",
              "      </button>\n",
              "      \n",
              "  <style>\n",
              "    .colab-df-container {\n",
              "      display:flex;\n",
              "      flex-wrap:wrap;\n",
              "      gap: 12px;\n",
              "    }\n",
              "\n",
              "    .colab-df-convert {\n",
              "      background-color: #E8F0FE;\n",
              "      border: none;\n",
              "      border-radius: 50%;\n",
              "      cursor: pointer;\n",
              "      display: none;\n",
              "      fill: #1967D2;\n",
              "      height: 32px;\n",
              "      padding: 0 0 0 0;\n",
              "      width: 32px;\n",
              "    }\n",
              "\n",
              "    .colab-df-convert:hover {\n",
              "      background-color: #E2EBFA;\n",
              "      box-shadow: 0px 1px 2px rgba(60, 64, 67, 0.3), 0px 1px 3px 1px rgba(60, 64, 67, 0.15);\n",
              "      fill: #174EA6;\n",
              "    }\n",
              "\n",
              "    [theme=dark] .colab-df-convert {\n",
              "      background-color: #3B4455;\n",
              "      fill: #D2E3FC;\n",
              "    }\n",
              "\n",
              "    [theme=dark] .colab-df-convert:hover {\n",
              "      background-color: #434B5C;\n",
              "      box-shadow: 0px 1px 3px 1px rgba(0, 0, 0, 0.15);\n",
              "      filter: drop-shadow(0px 1px 2px rgba(0, 0, 0, 0.3));\n",
              "      fill: #FFFFFF;\n",
              "    }\n",
              "  </style>\n",
              "\n",
              "      <script>\n",
              "        const buttonEl =\n",
              "          document.querySelector('#df-ab785c18-f9ae-4e76-91d6-4a53d23ef9ed button.colab-df-convert');\n",
              "        buttonEl.style.display =\n",
              "          google.colab.kernel.accessAllowed ? 'block' : 'none';\n",
              "\n",
              "        async function convertToInteractive(key) {\n",
              "          const element = document.querySelector('#df-ab785c18-f9ae-4e76-91d6-4a53d23ef9ed');\n",
              "          const dataTable =\n",
              "            await google.colab.kernel.invokeFunction('convertToInteractive',\n",
              "                                                     [key], {});\n",
              "          if (!dataTable) return;\n",
              "\n",
              "          const docLinkHtml = 'Like what you see? Visit the ' +\n",
              "            '<a target=\"_blank\" href=https://colab.research.google.com/notebooks/data_table.ipynb>data table notebook</a>'\n",
              "            + ' to learn more about interactive tables.';\n",
              "          element.innerHTML = '';\n",
              "          dataTable['output_type'] = 'display_data';\n",
              "          await google.colab.output.renderOutput(dataTable, element);\n",
              "          const docLink = document.createElement('div');\n",
              "          docLink.innerHTML = docLinkHtml;\n",
              "          element.appendChild(docLink);\n",
              "        }\n",
              "      </script>\n",
              "    </div>\n",
              "  </div>\n",
              "  "
            ]
          },
          "metadata": {},
          "execution_count": 32
        }
      ]
    },
    {
      "cell_type": "code",
      "source": [
        "train.tail()"
      ],
      "metadata": {
        "id": "O1XqXXDi0c-b",
        "outputId": "e8eb78f9-73fc-46f9-fe72-8ce34822d239",
        "colab": {
          "base_uri": "https://localhost:8080/",
          "height": 300
        }
      },
      "execution_count": 33,
      "outputs": [
        {
          "output_type": "execute_result",
          "data": {
            "text/plain": [
              "       label  pixel1  pixel2  pixel3  pixel4  pixel5  pixel6  pixel7  pixel8  \\\n",
              "27450     13     189     189     190     190     192     193     193     193   \n",
              "27451     23     151     154     157     158     160     161     163     164   \n",
              "27452     18     174     174     174     174     174     175     175     174   \n",
              "27453     17     177     181     184     185     187     189     190     191   \n",
              "27454     23     179     180     180     180     182     181     182     183   \n",
              "\n",
              "       pixel9  ...  pixel775  pixel776  pixel777  pixel778  pixel779  \\\n",
              "27450     193  ...       132       165        99        77        52   \n",
              "27451     166  ...       198       198       198       198       198   \n",
              "27452     173  ...       121       196       209       208       206   \n",
              "27453     191  ...       119        56        27        58       102   \n",
              "27454     182  ...       108       132       170       194       214   \n",
              "\n",
              "       pixel780  pixel781  pixel782  pixel783  pixel784  \n",
              "27450       200       234       200       222       225  \n",
              "27451       196       195       195       195       194  \n",
              "27452       204       203       202       200       200  \n",
              "27453        79        47        64        87        93  \n",
              "27454       203       197       205       209       215  \n",
              "\n",
              "[5 rows x 785 columns]"
            ],
            "text/html": [
              "\n",
              "  <div id=\"df-12002685-6736-4aab-9092-e62c1beee5cc\">\n",
              "    <div class=\"colab-df-container\">\n",
              "      <div>\n",
              "<style scoped>\n",
              "    .dataframe tbody tr th:only-of-type {\n",
              "        vertical-align: middle;\n",
              "    }\n",
              "\n",
              "    .dataframe tbody tr th {\n",
              "        vertical-align: top;\n",
              "    }\n",
              "\n",
              "    .dataframe thead th {\n",
              "        text-align: right;\n",
              "    }\n",
              "</style>\n",
              "<table border=\"1\" class=\"dataframe\">\n",
              "  <thead>\n",
              "    <tr style=\"text-align: right;\">\n",
              "      <th></th>\n",
              "      <th>label</th>\n",
              "      <th>pixel1</th>\n",
              "      <th>pixel2</th>\n",
              "      <th>pixel3</th>\n",
              "      <th>pixel4</th>\n",
              "      <th>pixel5</th>\n",
              "      <th>pixel6</th>\n",
              "      <th>pixel7</th>\n",
              "      <th>pixel8</th>\n",
              "      <th>pixel9</th>\n",
              "      <th>...</th>\n",
              "      <th>pixel775</th>\n",
              "      <th>pixel776</th>\n",
              "      <th>pixel777</th>\n",
              "      <th>pixel778</th>\n",
              "      <th>pixel779</th>\n",
              "      <th>pixel780</th>\n",
              "      <th>pixel781</th>\n",
              "      <th>pixel782</th>\n",
              "      <th>pixel783</th>\n",
              "      <th>pixel784</th>\n",
              "    </tr>\n",
              "  </thead>\n",
              "  <tbody>\n",
              "    <tr>\n",
              "      <th>27450</th>\n",
              "      <td>13</td>\n",
              "      <td>189</td>\n",
              "      <td>189</td>\n",
              "      <td>190</td>\n",
              "      <td>190</td>\n",
              "      <td>192</td>\n",
              "      <td>193</td>\n",
              "      <td>193</td>\n",
              "      <td>193</td>\n",
              "      <td>193</td>\n",
              "      <td>...</td>\n",
              "      <td>132</td>\n",
              "      <td>165</td>\n",
              "      <td>99</td>\n",
              "      <td>77</td>\n",
              "      <td>52</td>\n",
              "      <td>200</td>\n",
              "      <td>234</td>\n",
              "      <td>200</td>\n",
              "      <td>222</td>\n",
              "      <td>225</td>\n",
              "    </tr>\n",
              "    <tr>\n",
              "      <th>27451</th>\n",
              "      <td>23</td>\n",
              "      <td>151</td>\n",
              "      <td>154</td>\n",
              "      <td>157</td>\n",
              "      <td>158</td>\n",
              "      <td>160</td>\n",
              "      <td>161</td>\n",
              "      <td>163</td>\n",
              "      <td>164</td>\n",
              "      <td>166</td>\n",
              "      <td>...</td>\n",
              "      <td>198</td>\n",
              "      <td>198</td>\n",
              "      <td>198</td>\n",
              "      <td>198</td>\n",
              "      <td>198</td>\n",
              "      <td>196</td>\n",
              "      <td>195</td>\n",
              "      <td>195</td>\n",
              "      <td>195</td>\n",
              "      <td>194</td>\n",
              "    </tr>\n",
              "    <tr>\n",
              "      <th>27452</th>\n",
              "      <td>18</td>\n",
              "      <td>174</td>\n",
              "      <td>174</td>\n",
              "      <td>174</td>\n",
              "      <td>174</td>\n",
              "      <td>174</td>\n",
              "      <td>175</td>\n",
              "      <td>175</td>\n",
              "      <td>174</td>\n",
              "      <td>173</td>\n",
              "      <td>...</td>\n",
              "      <td>121</td>\n",
              "      <td>196</td>\n",
              "      <td>209</td>\n",
              "      <td>208</td>\n",
              "      <td>206</td>\n",
              "      <td>204</td>\n",
              "      <td>203</td>\n",
              "      <td>202</td>\n",
              "      <td>200</td>\n",
              "      <td>200</td>\n",
              "    </tr>\n",
              "    <tr>\n",
              "      <th>27453</th>\n",
              "      <td>17</td>\n",
              "      <td>177</td>\n",
              "      <td>181</td>\n",
              "      <td>184</td>\n",
              "      <td>185</td>\n",
              "      <td>187</td>\n",
              "      <td>189</td>\n",
              "      <td>190</td>\n",
              "      <td>191</td>\n",
              "      <td>191</td>\n",
              "      <td>...</td>\n",
              "      <td>119</td>\n",
              "      <td>56</td>\n",
              "      <td>27</td>\n",
              "      <td>58</td>\n",
              "      <td>102</td>\n",
              "      <td>79</td>\n",
              "      <td>47</td>\n",
              "      <td>64</td>\n",
              "      <td>87</td>\n",
              "      <td>93</td>\n",
              "    </tr>\n",
              "    <tr>\n",
              "      <th>27454</th>\n",
              "      <td>23</td>\n",
              "      <td>179</td>\n",
              "      <td>180</td>\n",
              "      <td>180</td>\n",
              "      <td>180</td>\n",
              "      <td>182</td>\n",
              "      <td>181</td>\n",
              "      <td>182</td>\n",
              "      <td>183</td>\n",
              "      <td>182</td>\n",
              "      <td>...</td>\n",
              "      <td>108</td>\n",
              "      <td>132</td>\n",
              "      <td>170</td>\n",
              "      <td>194</td>\n",
              "      <td>214</td>\n",
              "      <td>203</td>\n",
              "      <td>197</td>\n",
              "      <td>205</td>\n",
              "      <td>209</td>\n",
              "      <td>215</td>\n",
              "    </tr>\n",
              "  </tbody>\n",
              "</table>\n",
              "<p>5 rows × 785 columns</p>\n",
              "</div>\n",
              "      <button class=\"colab-df-convert\" onclick=\"convertToInteractive('df-12002685-6736-4aab-9092-e62c1beee5cc')\"\n",
              "              title=\"Convert this dataframe to an interactive table.\"\n",
              "              style=\"display:none;\">\n",
              "        \n",
              "  <svg xmlns=\"http://www.w3.org/2000/svg\" height=\"24px\"viewBox=\"0 0 24 24\"\n",
              "       width=\"24px\">\n",
              "    <path d=\"M0 0h24v24H0V0z\" fill=\"none\"/>\n",
              "    <path d=\"M18.56 5.44l.94 2.06.94-2.06 2.06-.94-2.06-.94-.94-2.06-.94 2.06-2.06.94zm-11 1L8.5 8.5l.94-2.06 2.06-.94-2.06-.94L8.5 2.5l-.94 2.06-2.06.94zm10 10l.94 2.06.94-2.06 2.06-.94-2.06-.94-.94-2.06-.94 2.06-2.06.94z\"/><path d=\"M17.41 7.96l-1.37-1.37c-.4-.4-.92-.59-1.43-.59-.52 0-1.04.2-1.43.59L10.3 9.45l-7.72 7.72c-.78.78-.78 2.05 0 2.83L4 21.41c.39.39.9.59 1.41.59.51 0 1.02-.2 1.41-.59l7.78-7.78 2.81-2.81c.8-.78.8-2.07 0-2.86zM5.41 20L4 18.59l7.72-7.72 1.47 1.35L5.41 20z\"/>\n",
              "  </svg>\n",
              "      </button>\n",
              "      \n",
              "  <style>\n",
              "    .colab-df-container {\n",
              "      display:flex;\n",
              "      flex-wrap:wrap;\n",
              "      gap: 12px;\n",
              "    }\n",
              "\n",
              "    .colab-df-convert {\n",
              "      background-color: #E8F0FE;\n",
              "      border: none;\n",
              "      border-radius: 50%;\n",
              "      cursor: pointer;\n",
              "      display: none;\n",
              "      fill: #1967D2;\n",
              "      height: 32px;\n",
              "      padding: 0 0 0 0;\n",
              "      width: 32px;\n",
              "    }\n",
              "\n",
              "    .colab-df-convert:hover {\n",
              "      background-color: #E2EBFA;\n",
              "      box-shadow: 0px 1px 2px rgba(60, 64, 67, 0.3), 0px 1px 3px 1px rgba(60, 64, 67, 0.15);\n",
              "      fill: #174EA6;\n",
              "    }\n",
              "\n",
              "    [theme=dark] .colab-df-convert {\n",
              "      background-color: #3B4455;\n",
              "      fill: #D2E3FC;\n",
              "    }\n",
              "\n",
              "    [theme=dark] .colab-df-convert:hover {\n",
              "      background-color: #434B5C;\n",
              "      box-shadow: 0px 1px 3px 1px rgba(0, 0, 0, 0.15);\n",
              "      filter: drop-shadow(0px 1px 2px rgba(0, 0, 0, 0.3));\n",
              "      fill: #FFFFFF;\n",
              "    }\n",
              "  </style>\n",
              "\n",
              "      <script>\n",
              "        const buttonEl =\n",
              "          document.querySelector('#df-12002685-6736-4aab-9092-e62c1beee5cc button.colab-df-convert');\n",
              "        buttonEl.style.display =\n",
              "          google.colab.kernel.accessAllowed ? 'block' : 'none';\n",
              "\n",
              "        async function convertToInteractive(key) {\n",
              "          const element = document.querySelector('#df-12002685-6736-4aab-9092-e62c1beee5cc');\n",
              "          const dataTable =\n",
              "            await google.colab.kernel.invokeFunction('convertToInteractive',\n",
              "                                                     [key], {});\n",
              "          if (!dataTable) return;\n",
              "\n",
              "          const docLinkHtml = 'Like what you see? Visit the ' +\n",
              "            '<a target=\"_blank\" href=https://colab.research.google.com/notebooks/data_table.ipynb>data table notebook</a>'\n",
              "            + ' to learn more about interactive tables.';\n",
              "          element.innerHTML = '';\n",
              "          dataTable['output_type'] = 'display_data';\n",
              "          await google.colab.output.renderOutput(dataTable, element);\n",
              "          const docLink = document.createElement('div');\n",
              "          docLink.innerHTML = docLinkHtml;\n",
              "          element.appendChild(docLink);\n",
              "        }\n",
              "      </script>\n",
              "    </div>\n",
              "  </div>\n",
              "  "
            ]
          },
          "metadata": {},
          "execution_count": 33
        }
      ]
    },
    {
      "cell_type": "code",
      "source": [
        "train.describe()"
      ],
      "metadata": {
        "colab": {
          "base_uri": "https://localhost:8080/",
          "height": 394
        },
        "id": "6ry5KRmtrVAX",
        "outputId": "32e51e8a-737b-4e78-85ca-217c763d3f37"
      },
      "execution_count": 34,
      "outputs": [
        {
          "output_type": "execute_result",
          "data": {
            "text/plain": [
              "              label        pixel1        pixel2        pixel3        pixel4  \\\n",
              "count  27455.000000  27455.000000  27455.000000  27455.000000  27455.000000   \n",
              "mean      12.318813    145.419377    148.500273    151.247714    153.546531   \n",
              "std        7.287552     41.358555     39.942152     39.056286     38.595247   \n",
              "min        0.000000      0.000000      0.000000      0.000000      0.000000   \n",
              "25%        6.000000    121.000000    126.000000    130.000000    133.000000   \n",
              "50%       13.000000    150.000000    153.000000    156.000000    158.000000   \n",
              "75%       19.000000    174.000000    176.000000    178.000000    179.000000   \n",
              "max       24.000000    255.000000    255.000000    255.000000    255.000000   \n",
              "\n",
              "             pixel5        pixel6        pixel7        pixel8        pixel9  \\\n",
              "count  27455.000000  27455.000000  27455.000000  27455.000000  27455.000000   \n",
              "mean     156.210891    158.411255    160.472154    162.339683    163.954799   \n",
              "std       37.111165     36.125579     35.016392     33.661998     32.651607   \n",
              "min        0.000000      0.000000      0.000000      0.000000      0.000000   \n",
              "25%      137.000000    140.000000    142.000000    144.000000    146.000000   \n",
              "50%      160.000000    162.000000    164.000000    165.000000    166.000000   \n",
              "75%      181.000000    182.000000    183.000000    184.000000    185.000000   \n",
              "max      255.000000    255.000000    255.000000    255.000000    255.000000   \n",
              "\n",
              "       ...      pixel775      pixel776      pixel777      pixel778  \\\n",
              "count  ...  27455.000000  27455.000000  27455.000000  27455.000000   \n",
              "mean   ...    141.104863    147.495611    153.325806    159.125332   \n",
              "std    ...     63.751194     65.512894     64.427412     63.708507   \n",
              "min    ...      0.000000      0.000000      0.000000      0.000000   \n",
              "25%    ...     92.000000     96.000000    103.000000    112.000000   \n",
              "50%    ...    144.000000    162.000000    172.000000    180.000000   \n",
              "75%    ...    196.000000    202.000000    205.000000    207.000000   \n",
              "max    ...    255.000000    255.000000    255.000000    255.000000   \n",
              "\n",
              "           pixel779      pixel780      pixel781      pixel782      pixel783  \\\n",
              "count  27455.000000  27455.000000  27455.000000  27455.000000  27455.000000   \n",
              "mean     161.969259    162.736696    162.906137    161.966454    161.137898   \n",
              "std       63.738316     63.444008     63.509210     63.298721     63.610415   \n",
              "min        0.000000      0.000000      0.000000      0.000000      0.000000   \n",
              "25%      120.000000    125.000000    128.000000    128.000000    128.000000   \n",
              "50%      183.000000    184.000000    184.000000    182.000000    182.000000   \n",
              "75%      208.000000    207.000000    207.000000    206.000000    204.000000   \n",
              "max      255.000000    255.000000    255.000000    255.000000    255.000000   \n",
              "\n",
              "           pixel784  \n",
              "count  27455.000000  \n",
              "mean     159.824731  \n",
              "std       64.396846  \n",
              "min        0.000000  \n",
              "25%      125.500000  \n",
              "50%      182.000000  \n",
              "75%      204.000000  \n",
              "max      255.000000  \n",
              "\n",
              "[8 rows x 785 columns]"
            ],
            "text/html": [
              "\n",
              "  <div id=\"df-a57823cc-d6b2-43b7-ace2-9fd2d50ee46b\">\n",
              "    <div class=\"colab-df-container\">\n",
              "      <div>\n",
              "<style scoped>\n",
              "    .dataframe tbody tr th:only-of-type {\n",
              "        vertical-align: middle;\n",
              "    }\n",
              "\n",
              "    .dataframe tbody tr th {\n",
              "        vertical-align: top;\n",
              "    }\n",
              "\n",
              "    .dataframe thead th {\n",
              "        text-align: right;\n",
              "    }\n",
              "</style>\n",
              "<table border=\"1\" class=\"dataframe\">\n",
              "  <thead>\n",
              "    <tr style=\"text-align: right;\">\n",
              "      <th></th>\n",
              "      <th>label</th>\n",
              "      <th>pixel1</th>\n",
              "      <th>pixel2</th>\n",
              "      <th>pixel3</th>\n",
              "      <th>pixel4</th>\n",
              "      <th>pixel5</th>\n",
              "      <th>pixel6</th>\n",
              "      <th>pixel7</th>\n",
              "      <th>pixel8</th>\n",
              "      <th>pixel9</th>\n",
              "      <th>...</th>\n",
              "      <th>pixel775</th>\n",
              "      <th>pixel776</th>\n",
              "      <th>pixel777</th>\n",
              "      <th>pixel778</th>\n",
              "      <th>pixel779</th>\n",
              "      <th>pixel780</th>\n",
              "      <th>pixel781</th>\n",
              "      <th>pixel782</th>\n",
              "      <th>pixel783</th>\n",
              "      <th>pixel784</th>\n",
              "    </tr>\n",
              "  </thead>\n",
              "  <tbody>\n",
              "    <tr>\n",
              "      <th>count</th>\n",
              "      <td>27455.000000</td>\n",
              "      <td>27455.000000</td>\n",
              "      <td>27455.000000</td>\n",
              "      <td>27455.000000</td>\n",
              "      <td>27455.000000</td>\n",
              "      <td>27455.000000</td>\n",
              "      <td>27455.000000</td>\n",
              "      <td>27455.000000</td>\n",
              "      <td>27455.000000</td>\n",
              "      <td>27455.000000</td>\n",
              "      <td>...</td>\n",
              "      <td>27455.000000</td>\n",
              "      <td>27455.000000</td>\n",
              "      <td>27455.000000</td>\n",
              "      <td>27455.000000</td>\n",
              "      <td>27455.000000</td>\n",
              "      <td>27455.000000</td>\n",
              "      <td>27455.000000</td>\n",
              "      <td>27455.000000</td>\n",
              "      <td>27455.000000</td>\n",
              "      <td>27455.000000</td>\n",
              "    </tr>\n",
              "    <tr>\n",
              "      <th>mean</th>\n",
              "      <td>12.318813</td>\n",
              "      <td>145.419377</td>\n",
              "      <td>148.500273</td>\n",
              "      <td>151.247714</td>\n",
              "      <td>153.546531</td>\n",
              "      <td>156.210891</td>\n",
              "      <td>158.411255</td>\n",
              "      <td>160.472154</td>\n",
              "      <td>162.339683</td>\n",
              "      <td>163.954799</td>\n",
              "      <td>...</td>\n",
              "      <td>141.104863</td>\n",
              "      <td>147.495611</td>\n",
              "      <td>153.325806</td>\n",
              "      <td>159.125332</td>\n",
              "      <td>161.969259</td>\n",
              "      <td>162.736696</td>\n",
              "      <td>162.906137</td>\n",
              "      <td>161.966454</td>\n",
              "      <td>161.137898</td>\n",
              "      <td>159.824731</td>\n",
              "    </tr>\n",
              "    <tr>\n",
              "      <th>std</th>\n",
              "      <td>7.287552</td>\n",
              "      <td>41.358555</td>\n",
              "      <td>39.942152</td>\n",
              "      <td>39.056286</td>\n",
              "      <td>38.595247</td>\n",
              "      <td>37.111165</td>\n",
              "      <td>36.125579</td>\n",
              "      <td>35.016392</td>\n",
              "      <td>33.661998</td>\n",
              "      <td>32.651607</td>\n",
              "      <td>...</td>\n",
              "      <td>63.751194</td>\n",
              "      <td>65.512894</td>\n",
              "      <td>64.427412</td>\n",
              "      <td>63.708507</td>\n",
              "      <td>63.738316</td>\n",
              "      <td>63.444008</td>\n",
              "      <td>63.509210</td>\n",
              "      <td>63.298721</td>\n",
              "      <td>63.610415</td>\n",
              "      <td>64.396846</td>\n",
              "    </tr>\n",
              "    <tr>\n",
              "      <th>min</th>\n",
              "      <td>0.000000</td>\n",
              "      <td>0.000000</td>\n",
              "      <td>0.000000</td>\n",
              "      <td>0.000000</td>\n",
              "      <td>0.000000</td>\n",
              "      <td>0.000000</td>\n",
              "      <td>0.000000</td>\n",
              "      <td>0.000000</td>\n",
              "      <td>0.000000</td>\n",
              "      <td>0.000000</td>\n",
              "      <td>...</td>\n",
              "      <td>0.000000</td>\n",
              "      <td>0.000000</td>\n",
              "      <td>0.000000</td>\n",
              "      <td>0.000000</td>\n",
              "      <td>0.000000</td>\n",
              "      <td>0.000000</td>\n",
              "      <td>0.000000</td>\n",
              "      <td>0.000000</td>\n",
              "      <td>0.000000</td>\n",
              "      <td>0.000000</td>\n",
              "    </tr>\n",
              "    <tr>\n",
              "      <th>25%</th>\n",
              "      <td>6.000000</td>\n",
              "      <td>121.000000</td>\n",
              "      <td>126.000000</td>\n",
              "      <td>130.000000</td>\n",
              "      <td>133.000000</td>\n",
              "      <td>137.000000</td>\n",
              "      <td>140.000000</td>\n",
              "      <td>142.000000</td>\n",
              "      <td>144.000000</td>\n",
              "      <td>146.000000</td>\n",
              "      <td>...</td>\n",
              "      <td>92.000000</td>\n",
              "      <td>96.000000</td>\n",
              "      <td>103.000000</td>\n",
              "      <td>112.000000</td>\n",
              "      <td>120.000000</td>\n",
              "      <td>125.000000</td>\n",
              "      <td>128.000000</td>\n",
              "      <td>128.000000</td>\n",
              "      <td>128.000000</td>\n",
              "      <td>125.500000</td>\n",
              "    </tr>\n",
              "    <tr>\n",
              "      <th>50%</th>\n",
              "      <td>13.000000</td>\n",
              "      <td>150.000000</td>\n",
              "      <td>153.000000</td>\n",
              "      <td>156.000000</td>\n",
              "      <td>158.000000</td>\n",
              "      <td>160.000000</td>\n",
              "      <td>162.000000</td>\n",
              "      <td>164.000000</td>\n",
              "      <td>165.000000</td>\n",
              "      <td>166.000000</td>\n",
              "      <td>...</td>\n",
              "      <td>144.000000</td>\n",
              "      <td>162.000000</td>\n",
              "      <td>172.000000</td>\n",
              "      <td>180.000000</td>\n",
              "      <td>183.000000</td>\n",
              "      <td>184.000000</td>\n",
              "      <td>184.000000</td>\n",
              "      <td>182.000000</td>\n",
              "      <td>182.000000</td>\n",
              "      <td>182.000000</td>\n",
              "    </tr>\n",
              "    <tr>\n",
              "      <th>75%</th>\n",
              "      <td>19.000000</td>\n",
              "      <td>174.000000</td>\n",
              "      <td>176.000000</td>\n",
              "      <td>178.000000</td>\n",
              "      <td>179.000000</td>\n",
              "      <td>181.000000</td>\n",
              "      <td>182.000000</td>\n",
              "      <td>183.000000</td>\n",
              "      <td>184.000000</td>\n",
              "      <td>185.000000</td>\n",
              "      <td>...</td>\n",
              "      <td>196.000000</td>\n",
              "      <td>202.000000</td>\n",
              "      <td>205.000000</td>\n",
              "      <td>207.000000</td>\n",
              "      <td>208.000000</td>\n",
              "      <td>207.000000</td>\n",
              "      <td>207.000000</td>\n",
              "      <td>206.000000</td>\n",
              "      <td>204.000000</td>\n",
              "      <td>204.000000</td>\n",
              "    </tr>\n",
              "    <tr>\n",
              "      <th>max</th>\n",
              "      <td>24.000000</td>\n",
              "      <td>255.000000</td>\n",
              "      <td>255.000000</td>\n",
              "      <td>255.000000</td>\n",
              "      <td>255.000000</td>\n",
              "      <td>255.000000</td>\n",
              "      <td>255.000000</td>\n",
              "      <td>255.000000</td>\n",
              "      <td>255.000000</td>\n",
              "      <td>255.000000</td>\n",
              "      <td>...</td>\n",
              "      <td>255.000000</td>\n",
              "      <td>255.000000</td>\n",
              "      <td>255.000000</td>\n",
              "      <td>255.000000</td>\n",
              "      <td>255.000000</td>\n",
              "      <td>255.000000</td>\n",
              "      <td>255.000000</td>\n",
              "      <td>255.000000</td>\n",
              "      <td>255.000000</td>\n",
              "      <td>255.000000</td>\n",
              "    </tr>\n",
              "  </tbody>\n",
              "</table>\n",
              "<p>8 rows × 785 columns</p>\n",
              "</div>\n",
              "      <button class=\"colab-df-convert\" onclick=\"convertToInteractive('df-a57823cc-d6b2-43b7-ace2-9fd2d50ee46b')\"\n",
              "              title=\"Convert this dataframe to an interactive table.\"\n",
              "              style=\"display:none;\">\n",
              "        \n",
              "  <svg xmlns=\"http://www.w3.org/2000/svg\" height=\"24px\"viewBox=\"0 0 24 24\"\n",
              "       width=\"24px\">\n",
              "    <path d=\"M0 0h24v24H0V0z\" fill=\"none\"/>\n",
              "    <path d=\"M18.56 5.44l.94 2.06.94-2.06 2.06-.94-2.06-.94-.94-2.06-.94 2.06-2.06.94zm-11 1L8.5 8.5l.94-2.06 2.06-.94-2.06-.94L8.5 2.5l-.94 2.06-2.06.94zm10 10l.94 2.06.94-2.06 2.06-.94-2.06-.94-.94-2.06-.94 2.06-2.06.94z\"/><path d=\"M17.41 7.96l-1.37-1.37c-.4-.4-.92-.59-1.43-.59-.52 0-1.04.2-1.43.59L10.3 9.45l-7.72 7.72c-.78.78-.78 2.05 0 2.83L4 21.41c.39.39.9.59 1.41.59.51 0 1.02-.2 1.41-.59l7.78-7.78 2.81-2.81c.8-.78.8-2.07 0-2.86zM5.41 20L4 18.59l7.72-7.72 1.47 1.35L5.41 20z\"/>\n",
              "  </svg>\n",
              "      </button>\n",
              "      \n",
              "  <style>\n",
              "    .colab-df-container {\n",
              "      display:flex;\n",
              "      flex-wrap:wrap;\n",
              "      gap: 12px;\n",
              "    }\n",
              "\n",
              "    .colab-df-convert {\n",
              "      background-color: #E8F0FE;\n",
              "      border: none;\n",
              "      border-radius: 50%;\n",
              "      cursor: pointer;\n",
              "      display: none;\n",
              "      fill: #1967D2;\n",
              "      height: 32px;\n",
              "      padding: 0 0 0 0;\n",
              "      width: 32px;\n",
              "    }\n",
              "\n",
              "    .colab-df-convert:hover {\n",
              "      background-color: #E2EBFA;\n",
              "      box-shadow: 0px 1px 2px rgba(60, 64, 67, 0.3), 0px 1px 3px 1px rgba(60, 64, 67, 0.15);\n",
              "      fill: #174EA6;\n",
              "    }\n",
              "\n",
              "    [theme=dark] .colab-df-convert {\n",
              "      background-color: #3B4455;\n",
              "      fill: #D2E3FC;\n",
              "    }\n",
              "\n",
              "    [theme=dark] .colab-df-convert:hover {\n",
              "      background-color: #434B5C;\n",
              "      box-shadow: 0px 1px 3px 1px rgba(0, 0, 0, 0.15);\n",
              "      filter: drop-shadow(0px 1px 2px rgba(0, 0, 0, 0.3));\n",
              "      fill: #FFFFFF;\n",
              "    }\n",
              "  </style>\n",
              "\n",
              "      <script>\n",
              "        const buttonEl =\n",
              "          document.querySelector('#df-a57823cc-d6b2-43b7-ace2-9fd2d50ee46b button.colab-df-convert');\n",
              "        buttonEl.style.display =\n",
              "          google.colab.kernel.accessAllowed ? 'block' : 'none';\n",
              "\n",
              "        async function convertToInteractive(key) {\n",
              "          const element = document.querySelector('#df-a57823cc-d6b2-43b7-ace2-9fd2d50ee46b');\n",
              "          const dataTable =\n",
              "            await google.colab.kernel.invokeFunction('convertToInteractive',\n",
              "                                                     [key], {});\n",
              "          if (!dataTable) return;\n",
              "\n",
              "          const docLinkHtml = 'Like what you see? Visit the ' +\n",
              "            '<a target=\"_blank\" href=https://colab.research.google.com/notebooks/data_table.ipynb>data table notebook</a>'\n",
              "            + ' to learn more about interactive tables.';\n",
              "          element.innerHTML = '';\n",
              "          dataTable['output_type'] = 'display_data';\n",
              "          await google.colab.output.renderOutput(dataTable, element);\n",
              "          const docLink = document.createElement('div');\n",
              "          docLink.innerHTML = docLinkHtml;\n",
              "          element.appendChild(docLink);\n",
              "        }\n",
              "      </script>\n",
              "    </div>\n",
              "  </div>\n",
              "  "
            ]
          },
          "metadata": {},
          "execution_count": 34
        }
      ]
    },
    {
      "cell_type": "code",
      "source": [
        "# Create training and testing arrays\n",
        "train_set = np.array(train, dtype = 'float32')\n",
        "test_set = np.array(test, dtype='float32')"
      ],
      "metadata": {
        "id": "h0necgmKpsV9"
      },
      "execution_count": 35,
      "outputs": []
    },
    {
      "cell_type": "code",
      "source": [
        "#Specifying class labels\n",
        "class_names = ['A', 'B', 'C', 'D', 'E', 'F', 'G', 'H', 'I', 'J', 'K', 'L', 'M', 'N', 'O', 'P', 'Q', 'R', 'S', 'T', 'U', 'V', 'W', 'X', 'Y' ]"
      ],
      "metadata": {
        "id": "sUzZmRgZp1gF"
      },
      "execution_count": 36,
      "outputs": []
    },
    {
      "cell_type": "code",
      "source": [
        "#See a random image for class label verification\n",
        "i = random.randint(1,27455)\n",
        "plt.imshow(train_set[i,1:].reshape((28,28))) \n",
        "plt.imshow(train_set[i,1:].reshape((28,28))) \n",
        "label_index = train[\"label\"][i]\n",
        "plt.title(f\"{class_names[label_index]}\")\n",
        "plt.axis('off')"
      ],
      "metadata": {
        "colab": {
          "base_uri": "https://localhost:8080/",
          "height": 445
        },
        "id": "F13mUwq8p4JA",
        "outputId": "5b84410f-fd29-4873-dbcd-c01b9ca41139"
      },
      "execution_count": 37,
      "outputs": [
        {
          "output_type": "execute_result",
          "data": {
            "text/plain": [
              "(-0.5, 27.5, 27.5, -0.5)"
            ]
          },
          "metadata": {},
          "execution_count": 37
        },
        {
          "output_type": "display_data",
          "data": {
            "text/plain": [
              "<Figure size 640x480 with 1 Axes>"
            ],
            "image/png": "[encoded data removed]"
          },
          "metadata": {}
        }
      ]
    },
    {
      "cell_type": "code",
      "source": [
        "# ploting some random images from the training set with their class labels\n",
        "# Define the dimensions of the plot grid \n",
        "W_grid = 5\n",
        "L_grid = 5\n",
        "fig, axes = plt.subplots(L_grid, W_grid, figsize = (10,10))\n",
        "axes = axes.ravel() # flaten the 15 x 15 matrix into 225 array\n",
        "n_train = len(train_set) # get the length of the train dataset\n",
        "# Select a random number from 0 to n_train\n",
        "for i in np.arange(0, W_grid * L_grid): # create evenly spaces variables \n",
        "    # Select a random number\n",
        "    index = np.random.randint(0, n_train)\n",
        "    # read and display an image with the selected index    \n",
        "    axes[i].imshow( train_set[index,1:].reshape((28,28)) )\n",
        "    label_index = int(train_set[index,0])\n",
        "    axes[i].set_title(class_names[label_index], fontsize = 8)\n",
        "    axes[i].axis('off')\n",
        "plt.subplots_adjust(hspace=0.4)"
      ],
      "metadata": {
        "colab": {
          "base_uri": "https://localhost:8080/",
          "height": 823
        },
        "id": "gUgOFp-Ep8Sc",
        "outputId": "a8517ea7-d2ef-4138-c1f5-f9e8c5638960"
      },
      "execution_count": 38,
      "outputs": [
        {
          "output_type": "display_data",
          "data": {
            "text/plain": [
              "<Figure size 1000x1000 with 25 Axes>"
            ],
            "image/png": "[encoded data removed]"
          },
          "metadata": {}
        }
      ]
    },
    {
      "cell_type": "markdown",
      "source": [
        "## **Preprocessing Datasets**"
      ],
      "metadata": {
        "id": "0zOk4YwGqZPv"
      }
    },
    {
      "cell_type": "code",
      "source": [
        "# Prepare the training and testing dataset \n",
        "X_train = train_set[:, 1:] / 255 # Normailze the RGB codes by dividing it to the max RGB value \n",
        "y_train = train_set[:, 0]\n",
        "X_test = test_set[:, 1:] / 255 # Normailze the RGB codes by dividing it to the max RGB value \n",
        "y_test = test_set[:,0]"
      ],
      "metadata": {
        "id": "zMbb_PfJqRlm"
      },
      "execution_count": 39,
      "outputs": []
    },
    {
      "cell_type": "code",
      "source": [
        "#Visualize train images\n",
        "plt.figure(figsize=(10, 10))\n",
        "for i in range(25):\n",
        "    plt.subplot(5, 5, i + 1)\n",
        "    plt.xticks([])\n",
        "    plt.yticks([])\n",
        "    plt.grid(False)\n",
        "    plt.imshow(X_train[i].reshape((28,28)), cmap=plt.cm.binary) \n",
        "    label_index = int(y_train[i])\n",
        "    plt.title(class_names[label_index])\n",
        "plt.show()"
      ],
      "metadata": {
        "colab": {
          "base_uri": "https://localhost:8080/",
          "height": 829
        },
        "id": "tsZXsOw2smV0",
        "outputId": "ddf01e39-27e2-4ff4-f678-7156f95a2080"
      },
      "execution_count": 40,
      "outputs": [
        {
          "output_type": "display_data",
          "data": {
            "text/plain": [
              "<Figure size 1000x1000 with 25 Axes>"
            ],
            "image/png": "[encoded data removed]"
          },
          "metadata": {}
        }
      ]
    },
    {
      "cell_type": "code",
      "source": [
        "# Frequency plot of the labels\n",
        "# import seaborn as sns\n",
        "# sns.countplot(train['label'])\n",
        "# plt.title(\"Frequency of each label\")"
      ],
      "metadata": {
        "id": "ntrQmaD-srW6"
      },
      "execution_count": null,
      "outputs": []
    },
    {
      "cell_type": "markdown",
      "source": [
        "Spiltting into train and test data"
      ],
      "metadata": {
        "id": "uHtrgqOuuCig"
      }
    },
    {
      "cell_type": "code",
      "source": [
        "from sklearn.model_selection import train_test_split\n",
        "X_train, X_validate, y_train, y_validate = train_test_split(X_train, y_train, test_size = 0.2, random_state = 12345)"
      ],
      "metadata": {
        "id": "6Rd9j6Lut4DK"
      },
      "execution_count": 41,
      "outputs": []
    },
    {
      "cell_type": "code",
      "source": [
        "# check the shape of the training data set.\n",
        "\n",
        "print(X_train.shape)\n",
        "print(y_train.shape)"
      ],
      "metadata": {
        "colab": {
          "base_uri": "https://localhost:8080/"
        },
        "id": "K5h_KPRPyFh9",
        "outputId": "af8f5e93-5af1-44e1-e1db-f2cd4c2c24ce"
      },
      "execution_count": 42,
      "outputs": [
        {
          "output_type": "stream",
          "name": "stdout",
          "text": [
            "(21964, 784)\n",
            "(21964,)\n"
          ]
        }
      ]
    },
    {
      "cell_type": "code",
      "source": [
        "# Unpack the training and test tuple\n",
        "# Reshaping the array\n",
        "X_train = X_train.reshape(X_train.shape[0], *(28, 28, 1))\n",
        "X_test = X_test.reshape(X_test.shape[0], *(28, 28, 1))\n",
        "X_validate = X_validate.reshape(X_validate.shape[0], *(28, 28, 1))\n",
        "\n",
        "print(X_train.shape)\n",
        "print(y_train.shape)\n",
        "print(X_validate.shape)"
      ],
      "metadata": {
        "colab": {
          "base_uri": "https://localhost:8080/"
        },
        "id": "xJGUhPWuyXmm",
        "outputId": "3cb53bdc-0d0f-4575-b230-e8a39b535267"
      },
      "execution_count": 43,
      "outputs": [
        {
          "output_type": "stream",
          "name": "stdout",
          "text": [
            "(21964, 28, 28, 1)\n",
            "(21964,)\n",
            "(5491, 28, 28, 1)\n"
          ]
        }
      ]
    },
    {
      "cell_type": "markdown",
      "source": [
        "# **Convolutional Neural Network**\n",
        "\n",
        "\n",
        "\n"
      ],
      "metadata": {
        "id": "fzxr5QL7zNag"
      }
    },
    {
      "cell_type": "code",
      "source": [
        "#Library for CNN Model\n",
        "import tensorflow as tf\n",
        "from tensorflow.keras import datasets, layers, models"
      ],
      "metadata": {
        "id": "bfdn6uJbrveA"
      },
      "execution_count": 44,
      "outputs": []
    },
    {
      "cell_type": "code",
      "source": [
        "from keras.models import Sequential\n",
        "from keras.layers import Conv2D, MaxPooling2D, Dense, Flatten, Dropout\n",
        "from keras.optimizers import Adam\n",
        "from keras.callbacks import TensorBoard"
      ],
      "metadata": {
        "id": "mZGLsKoEuV77"
      },
      "execution_count": 45,
      "outputs": []
    },
    {
      "cell_type": "code",
      "source": [
        "#Defining the Convolutional Neural Network\n",
        "cnn_model = Sequential()\n",
        "\n",
        "cnn_model.add(Conv2D(32, (3, 3), input_shape = (28,28,1), activation='relu'))\n",
        "cnn_model.add(MaxPooling2D(pool_size = (2, 2)))\n",
        "cnn_model.add(Dropout(0.25))\n",
        "\n",
        "cnn_model.add(Conv2D(64, (3, 3), input_shape = (28,28,1), activation='relu'))\n",
        "cnn_model.add(MaxPooling2D(pool_size = (2, 2)))\n",
        "cnn_model.add(Dropout(0.25))\n",
        "\n",
        "cnn_model.add(Conv2D(128, (3, 3), input_shape = (28,28,1), activation='relu'))\n",
        "cnn_model.add(MaxPooling2D(pool_size = (2, 2)))\n",
        "cnn_model.add(Dropout(0.25))\n",
        "\n",
        "cnn_model.add(Flatten())\n",
        "\n",
        "cnn_model.add(Dense(units = 512, activation = 'relu'))\n",
        "cnn_model.add(Dense(units = 512, activation = 'relu'))\n",
        "cnn_model.add(Dense(units = 512, activation = 'relu'))\n",
        "cnn_model.add(Dense(units = 512, activation = 'relu'))\n",
        "cnn_model.add(Dense(units = 512, activation = 'relu'))\n",
        "cnn_model.add(Dense(units = 512, activation = 'relu'))\n",
        "cnn_model.add(Dense(units = 512, activation = 'relu'))\n",
        "cnn_model.add(Dense(units = 512, activation = 'relu'))\n",
        "cnn_model.add(Dense(units = 512, activation = 'relu'))\n",
        "cnn_model.add(Dense(units = 512, activation = 'relu'))\n",
        "\n",
        "cnn_model.add(Dropout(0.25))\n",
        "cnn_model.add(Dense(units = 25, activation = 'softmax'))"
      ],
      "metadata": {
        "id": "R45vzz22vptU"
      },
      "execution_count": 46,
      "outputs": []
    },
    {
      "cell_type": "code",
      "source": [
        "#CNN Model Summary\n",
        "cnn_model.summary()"
      ],
      "metadata": {
        "colab": {
          "base_uri": "https://localhost:8080/"
        },
        "id": "y9vLOt2S-abI",
        "outputId": "71a205ec-8a38-4af2-f76f-46626d86ec03"
      },
      "execution_count": 47,
      "outputs": [
        {
          "output_type": "stream",
          "name": "stdout",
          "text": [
            "Model: \"sequential_1\"\n",
            "_________________________________________________________________\n",
            " Layer (type)                Output Shape              Param #   \n",
            "=================================================================\n",
            " conv2d_3 (Conv2D)           (None, 26, 26, 32)        320       \n",
            "                                                                 \n",
            " max_pooling2d_3 (MaxPooling  (None, 13, 13, 32)       0         \n",
            " 2D)                                                             \n",
            "                                                                 \n",
            " dropout_4 (Dropout)         (None, 13, 13, 32)        0         \n",
            "                                                                 \n",
            " conv2d_4 (Conv2D)           (None, 11, 11, 64)        18496     \n",
            "                                                                 \n",
            " max_pooling2d_4 (MaxPooling  (None, 5, 5, 64)         0         \n",
            " 2D)                                                             \n",
            "                                                                 \n",
            " dropout_5 (Dropout)         (None, 5, 5, 64)          0         \n",
            "                                                                 \n",
            " conv2d_5 (Conv2D)           (None, 3, 3, 128)         73856     \n",
            "                                                                 \n",
            " max_pooling2d_5 (MaxPooling  (None, 1, 1, 128)        0         \n",
            " 2D)                                                             \n",
            "                                                                 \n",
            " dropout_6 (Dropout)         (None, 1, 1, 128)         0         \n",
            "                                                                 \n",
            " flatten_1 (Flatten)         (None, 128)               0         \n",
            "                                                                 \n",
            " dense_11 (Dense)            (None, 512)               66048     \n",
            "                                                                 \n",
            " dense_12 (Dense)            (None, 512)               262656    \n",
            "                                                                 \n",
            " dense_13 (Dense)            (None, 512)               262656    \n",
            "                                                                 \n",
            " dense_14 (Dense)            (None, 512)               262656    \n",
            "                                                                 \n",
            " dense_15 (Dense)            (None, 512)               262656    \n",
            "                                                                 \n",
            " dense_16 (Dense)            (None, 512)               262656    \n",
            "                                                                 \n",
            " dense_17 (Dense)            (None, 512)               262656    \n",
            "                                                                 \n",
            " dense_18 (Dense)            (None, 512)               262656    \n",
            "                                                                 \n",
            " dense_19 (Dense)            (None, 512)               262656    \n",
            "                                                                 \n",
            " dense_20 (Dense)            (None, 512)               262656    \n",
            "                                                                 \n",
            " dropout_7 (Dropout)         (None, 512)               0         \n",
            "                                                                 \n",
            " dense_21 (Dense)            (None, 25)                12825     \n",
            "                                                                 \n",
            "=================================================================\n",
            "Total params: 2,535,449\n",
            "Trainable params: 2,535,449\n",
            "Non-trainable params: 0\n",
            "_________________________________________________________________\n"
          ]
        }
      ]
    },
    {
      "cell_type": "code",
      "source": [
        "cnn_model.compile(loss ='sparse_categorical_crossentropy', optimizer='adam' ,metrics =['accuracy'])\n",
        "\n",
        "#Training the CNN model\n",
        "history = cnn_model.fit(X_train, y_train, batch_size = 512, epochs = 50, verbose = 1, validation_data = (X_validate, y_validate))"
      ],
      "metadata": {
        "colab": {
          "base_uri": "https://localhost:8080/"
        },
        "id": "TgChZyWh-uBM",
        "outputId": "65440dba-f816-45e6-b96d-7d683f40e5ba"
      },
      "execution_count": 48,
      "outputs": [
        {
          "output_type": "stream",
          "name": "stdout",
          "text": [
            "Epoch 1/50\n",
            "43/43 [==============================] - 7s 24ms/step - loss: 3.1875 - accuracy: 0.0437 - val_loss: 3.1987 - val_accuracy: 0.0479\n",
            "Epoch 2/50\n",
            "43/43 [==============================] - 1s 17ms/step - loss: 3.0108 - accuracy: 0.0744 - val_loss: 2.7533 - val_accuracy: 0.1054\n",
            "Epoch 3/50\n",
            "43/43 [==============================] - 1s 17ms/step - loss: 2.6385 - accuracy: 0.1217 - val_loss: 2.3774 - val_accuracy: 0.1799\n",
            "Epoch 4/50\n",
            "43/43 [==============================] - 1s 17ms/step - loss: 2.3350 - accuracy: 0.1747 - val_loss: 2.1044 - val_accuracy: 0.2094\n",
            "Epoch 5/50\n",
            "43/43 [==============================] - 1s 16ms/step - loss: 2.0185 - accuracy: 0.2342 - val_loss: 1.7080 - val_accuracy: 0.3274\n",
            "Epoch 6/50\n",
            "43/43 [==============================] - 1s 17ms/step - loss: 1.7187 - accuracy: 0.3180 - val_loss: 1.3808 - val_accuracy: 0.4007\n",
            "Epoch 7/50\n",
            "43/43 [==============================] - 1s 17ms/step - loss: 1.4748 - accuracy: 0.3957 - val_loss: 1.1563 - val_accuracy: 0.5101\n",
            "Epoch 8/50\n",
            "43/43 [==============================] - 1s 16ms/step - loss: 1.2554 - accuracy: 0.4733 - val_loss: 1.0090 - val_accuracy: 0.5287\n",
            "Epoch 9/50\n",
            "43/43 [==============================] - 1s 16ms/step - loss: 1.0182 - accuracy: 0.5687 - val_loss: 0.7138 - val_accuracy: 0.6909\n",
            "Epoch 10/50\n",
            "43/43 [==============================] - 1s 18ms/step - loss: 0.8801 - accuracy: 0.6386 - val_loss: 0.5602 - val_accuracy: 0.7742\n",
            "Epoch 11/50\n",
            "43/43 [==============================] - 1s 17ms/step - loss: 0.7544 - accuracy: 0.6981 - val_loss: 0.4511 - val_accuracy: 0.8108\n",
            "Epoch 12/50\n",
            "43/43 [==============================] - 1s 18ms/step - loss: 0.6010 - accuracy: 0.7617 - val_loss: 0.3732 - val_accuracy: 0.8319\n",
            "Epoch 13/50\n",
            "43/43 [==============================] - 1s 19ms/step - loss: 0.5328 - accuracy: 0.7964 - val_loss: 0.2436 - val_accuracy: 0.9073\n",
            "Epoch 14/50\n",
            "43/43 [==============================] - 1s 19ms/step - loss: 0.4388 - accuracy: 0.8398 - val_loss: 0.2236 - val_accuracy: 0.8949\n",
            "Epoch 15/50\n",
            "43/43 [==============================] - 1s 19ms/step - loss: 0.3618 - accuracy: 0.8711 - val_loss: 0.1585 - val_accuracy: 0.9599\n",
            "Epoch 16/50\n",
            "43/43 [==============================] - 1s 22ms/step - loss: 0.3029 - accuracy: 0.8952 - val_loss: 0.0974 - val_accuracy: 0.9747\n",
            "Epoch 17/50\n",
            "43/43 [==============================] - 1s 17ms/step - loss: 0.2808 - accuracy: 0.9062 - val_loss: 0.0615 - val_accuracy: 0.9951\n",
            "Epoch 18/50\n",
            "43/43 [==============================] - 1s 17ms/step - loss: 0.2253 - accuracy: 0.9285 - val_loss: 0.0462 - val_accuracy: 0.9914\n",
            "Epoch 19/50\n",
            "43/43 [==============================] - 1s 17ms/step - loss: 0.2190 - accuracy: 0.9307 - val_loss: 0.0296 - val_accuracy: 0.9953\n",
            "Epoch 20/50\n",
            "43/43 [==============================] - 1s 17ms/step - loss: 0.1726 - accuracy: 0.9478 - val_loss: 0.0241 - val_accuracy: 0.9971\n",
            "Epoch 21/50\n",
            "43/43 [==============================] - 1s 17ms/step - loss: 0.1539 - accuracy: 0.9534 - val_loss: 0.0192 - val_accuracy: 0.9971\n",
            "Epoch 22/50\n",
            "43/43 [==============================] - 1s 17ms/step - loss: 0.1609 - accuracy: 0.9511 - val_loss: 0.0092 - val_accuracy: 0.9996\n",
            "Epoch 23/50\n",
            "43/43 [==============================] - 1s 17ms/step - loss: 0.1394 - accuracy: 0.9593 - val_loss: 0.0115 - val_accuracy: 0.9984\n",
            "Epoch 24/50\n",
            "43/43 [==============================] - 1s 17ms/step - loss: 0.1323 - accuracy: 0.9626 - val_loss: 0.0073 - val_accuracy: 1.0000\n",
            "Epoch 25/50\n",
            "43/43 [==============================] - 1s 17ms/step - loss: 0.1294 - accuracy: 0.9619 - val_loss: 0.0281 - val_accuracy: 0.9956\n",
            "Epoch 26/50\n",
            "43/43 [==============================] - 1s 17ms/step - loss: 0.1307 - accuracy: 0.9628 - val_loss: 0.0061 - val_accuracy: 0.9998\n",
            "Epoch 27/50\n",
            "43/43 [==============================] - 1s 17ms/step - loss: 0.1003 - accuracy: 0.9715 - val_loss: 0.0050 - val_accuracy: 1.0000\n",
            "Epoch 28/50\n",
            "43/43 [==============================] - 1s 17ms/step - loss: 0.1009 - accuracy: 0.9726 - val_loss: 0.0078 - val_accuracy: 0.9993\n",
            "Epoch 29/50\n",
            "43/43 [==============================] - 1s 17ms/step - loss: 0.0933 - accuracy: 0.9754 - val_loss: 0.0049 - val_accuracy: 0.9998\n",
            "Epoch 30/50\n",
            "43/43 [==============================] - 1s 18ms/step - loss: 0.0801 - accuracy: 0.9775 - val_loss: 0.0021 - val_accuracy: 1.0000\n",
            "Epoch 31/50\n",
            "43/43 [==============================] - 1s 20ms/step - loss: 0.0673 - accuracy: 0.9819 - val_loss: 0.0048 - val_accuracy: 0.9998\n",
            "Epoch 32/50\n",
            "43/43 [==============================] - 1s 20ms/step - loss: 0.0965 - accuracy: 0.9742 - val_loss: 0.0045 - val_accuracy: 1.0000\n",
            "Epoch 33/50\n",
            "43/43 [==============================] - 1s 19ms/step - loss: 0.0816 - accuracy: 0.9781 - val_loss: 0.0030 - val_accuracy: 1.0000\n",
            "Epoch 34/50\n",
            "43/43 [==============================] - 1s 20ms/step - loss: 0.0853 - accuracy: 0.9777 - val_loss: 0.0071 - val_accuracy: 0.9995\n",
            "Epoch 35/50\n",
            "43/43 [==============================] - 1s 18ms/step - loss: 0.1219 - accuracy: 0.9664 - val_loss: 0.0586 - val_accuracy: 0.9911\n",
            "Epoch 36/50\n",
            "43/43 [==============================] - 1s 17ms/step - loss: 0.1006 - accuracy: 0.9720 - val_loss: 0.0030 - val_accuracy: 0.9998\n",
            "Epoch 37/50\n",
            "43/43 [==============================] - 1s 17ms/step - loss: 0.0647 - accuracy: 0.9834 - val_loss: 0.0015 - val_accuracy: 1.0000\n",
            "Epoch 38/50\n",
            "43/43 [==============================] - 1s 17ms/step - loss: 0.0624 - accuracy: 0.9835 - val_loss: 0.0022 - val_accuracy: 0.9998\n",
            "Epoch 39/50\n",
            "43/43 [==============================] - 1s 17ms/step - loss: 0.0760 - accuracy: 0.9804 - val_loss: 0.0046 - val_accuracy: 1.0000\n",
            "Epoch 40/50\n",
            "43/43 [==============================] - 1s 17ms/step - loss: 0.0757 - accuracy: 0.9805 - val_loss: 0.0026 - val_accuracy: 1.0000\n",
            "Epoch 41/50\n",
            "43/43 [==============================] - 1s 17ms/step - loss: 0.0696 - accuracy: 0.9826 - val_loss: 0.0017 - val_accuracy: 1.0000\n",
            "Epoch 42/50\n",
            "43/43 [==============================] - 1s 17ms/step - loss: 0.0627 - accuracy: 0.9838 - val_loss: 0.0019 - val_accuracy: 1.0000\n",
            "Epoch 43/50\n",
            "43/43 [==============================] - 1s 17ms/step - loss: 0.0679 - accuracy: 0.9835 - val_loss: 0.0035 - val_accuracy: 0.9995\n",
            "Epoch 44/50\n",
            "43/43 [==============================] - 1s 17ms/step - loss: 0.0526 - accuracy: 0.9858 - val_loss: 0.0014 - val_accuracy: 1.0000\n",
            "Epoch 45/50\n",
            "43/43 [==============================] - 1s 17ms/step - loss: 0.0539 - accuracy: 0.9872 - val_loss: 9.0913e-04 - val_accuracy: 1.0000\n",
            "Epoch 46/50\n",
            "43/43 [==============================] - 1s 17ms/step - loss: 0.0478 - accuracy: 0.9875 - val_loss: 0.0013 - val_accuracy: 1.0000\n",
            "Epoch 47/50\n",
            "43/43 [==============================] - 1s 17ms/step - loss: 0.0466 - accuracy: 0.9886 - val_loss: 0.0013 - val_accuracy: 1.0000\n",
            "Epoch 48/50\n",
            "43/43 [==============================] - 1s 18ms/step - loss: 0.0432 - accuracy: 0.9882 - val_loss: 0.0011 - val_accuracy: 1.0000\n",
            "Epoch 49/50\n",
            "43/43 [==============================] - 1s 22ms/step - loss: 0.0931 - accuracy: 0.9763 - val_loss: 0.1297 - val_accuracy: 0.9412\n",
            "Epoch 50/50\n",
            "43/43 [==============================] - 1s 20ms/step - loss: 0.1288 - accuracy: 0.9633 - val_loss: 0.0014 - val_accuracy: 1.0000\n"
          ]
        }
      ]
    },
    {
      "cell_type": "code",
      "source": [
        "cnn_model.compile(loss ='sparse_categorical_crossentropy', optimizer='adam' ,metrics =['accuracy'])\n",
        "\n",
        "#Training the CNN model\n",
        "history = cnn_model.fit(X_train, y_train, batch_size = 512, epochs = 50, verbose = 1, validation_data = (X_validate, y_validate))"
      ],
      "metadata": {
        "colab": {
          "base_uri": "https://localhost:8080/"
        },
        "id": "OvECfitk_noL",
        "outputId": "b9646f57-95cc-4285-c90d-ab8c4b645cea"
      },
      "execution_count": 49,
      "outputs": [
        {
          "output_type": "stream",
          "name": "stdout",
          "text": [
            "Epoch 1/50\n",
            "43/43 [==============================] - 7s 26ms/step - loss: 0.0843 - accuracy: 0.9793 - val_loss: 0.0025 - val_accuracy: 0.9998\n",
            "Epoch 2/50\n",
            "43/43 [==============================] - 1s 20ms/step - loss: 0.0633 - accuracy: 0.9850 - val_loss: 0.0015 - val_accuracy: 1.0000\n",
            "Epoch 3/50\n",
            "43/43 [==============================] - 1s 20ms/step - loss: 0.0557 - accuracy: 0.9864 - val_loss: 0.0014 - val_accuracy: 1.0000\n",
            "Epoch 4/50\n",
            "43/43 [==============================] - 1s 19ms/step - loss: 0.0580 - accuracy: 0.9873 - val_loss: 0.0016 - val_accuracy: 1.0000\n",
            "Epoch 5/50\n",
            "43/43 [==============================] - 1s 21ms/step - loss: 0.0480 - accuracy: 0.9884 - val_loss: 0.0020 - val_accuracy: 1.0000\n",
            "Epoch 6/50\n",
            "43/43 [==============================] - 1s 17ms/step - loss: 0.0469 - accuracy: 0.9883 - val_loss: 9.7808e-04 - val_accuracy: 1.0000\n",
            "Epoch 7/50\n",
            "43/43 [==============================] - 1s 17ms/step - loss: 0.0497 - accuracy: 0.9880 - val_loss: 6.3209e-04 - val_accuracy: 1.0000\n",
            "Epoch 8/50\n",
            "43/43 [==============================] - 1s 17ms/step - loss: 0.0470 - accuracy: 0.9884 - val_loss: 5.4088e-04 - val_accuracy: 1.0000\n",
            "Epoch 9/50\n",
            "43/43 [==============================] - 1s 17ms/step - loss: 0.0354 - accuracy: 0.9912 - val_loss: 5.7005e-04 - val_accuracy: 1.0000\n",
            "Epoch 10/50\n",
            "43/43 [==============================] - 1s 17ms/step - loss: 0.0443 - accuracy: 0.9893 - val_loss: 8.5034e-04 - val_accuracy: 1.0000\n",
            "Epoch 11/50\n",
            "43/43 [==============================] - 1s 17ms/step - loss: 0.0563 - accuracy: 0.9857 - val_loss: 0.0035 - val_accuracy: 0.9993\n",
            "Epoch 12/50\n",
            "43/43 [==============================] - 1s 16ms/step - loss: 0.0694 - accuracy: 0.9830 - val_loss: 5.8512e-04 - val_accuracy: 1.0000\n",
            "Epoch 13/50\n",
            "43/43 [==============================] - 1s 17ms/step - loss: 0.0433 - accuracy: 0.9894 - val_loss: 0.0013 - val_accuracy: 1.0000\n",
            "Epoch 14/50\n",
            "43/43 [==============================] - 1s 18ms/step - loss: 0.0506 - accuracy: 0.9885 - val_loss: 9.5095e-04 - val_accuracy: 1.0000\n",
            "Epoch 15/50\n",
            "43/43 [==============================] - 1s 16ms/step - loss: 0.0459 - accuracy: 0.9887 - val_loss: 6.6279e-04 - val_accuracy: 1.0000\n",
            "Epoch 16/50\n",
            "43/43 [==============================] - 1s 17ms/step - loss: 0.0360 - accuracy: 0.9913 - val_loss: 5.9474e-04 - val_accuracy: 1.0000\n",
            "Epoch 17/50\n",
            "43/43 [==============================] - 1s 17ms/step - loss: 0.0550 - accuracy: 0.9858 - val_loss: 8.3307e-04 - val_accuracy: 1.0000\n",
            "Epoch 18/50\n",
            "43/43 [==============================] - 1s 17ms/step - loss: 0.0431 - accuracy: 0.9893 - val_loss: 6.5094e-04 - val_accuracy: 1.0000\n",
            "Epoch 19/50\n",
            "43/43 [==============================] - 1s 19ms/step - loss: 0.0430 - accuracy: 0.9891 - val_loss: 8.0323e-04 - val_accuracy: 1.0000\n",
            "Epoch 20/50\n",
            "43/43 [==============================] - 1s 22ms/step - loss: 0.0469 - accuracy: 0.9894 - val_loss: 0.0019 - val_accuracy: 1.0000\n",
            "Epoch 21/50\n",
            "43/43 [==============================] - 1s 20ms/step - loss: 0.0455 - accuracy: 0.9896 - val_loss: 0.0031 - val_accuracy: 0.9993\n",
            "Epoch 22/50\n",
            "43/43 [==============================] - 1s 20ms/step - loss: 0.0476 - accuracy: 0.9888 - val_loss: 4.2162e-04 - val_accuracy: 1.0000\n",
            "Epoch 23/50\n",
            "43/43 [==============================] - 1s 18ms/step - loss: 0.0381 - accuracy: 0.9904 - val_loss: 7.0363e-04 - val_accuracy: 1.0000\n",
            "Epoch 24/50\n",
            "43/43 [==============================] - 1s 17ms/step - loss: 0.0349 - accuracy: 0.9923 - val_loss: 3.5743e-04 - val_accuracy: 1.0000\n",
            "Epoch 25/50\n",
            "43/43 [==============================] - 1s 17ms/step - loss: 0.0344 - accuracy: 0.9926 - val_loss: 2.6870e-04 - val_accuracy: 1.0000\n",
            "Epoch 26/50\n",
            "43/43 [==============================] - 1s 17ms/step - loss: 0.0334 - accuracy: 0.9912 - val_loss: 5.5474e-04 - val_accuracy: 1.0000\n",
            "Epoch 27/50\n",
            "43/43 [==============================] - 1s 17ms/step - loss: 0.0321 - accuracy: 0.9922 - val_loss: 0.0014 - val_accuracy: 1.0000\n",
            "Epoch 28/50\n",
            "43/43 [==============================] - 1s 17ms/step - loss: 0.0368 - accuracy: 0.9917 - val_loss: 2.6822e-04 - val_accuracy: 1.0000\n",
            "Epoch 29/50\n",
            "43/43 [==============================] - 1s 17ms/step - loss: 0.0364 - accuracy: 0.9913 - val_loss: 8.8288e-04 - val_accuracy: 1.0000\n",
            "Epoch 30/50\n",
            "43/43 [==============================] - 1s 16ms/step - loss: 0.0310 - accuracy: 0.9924 - val_loss: 2.6827e-04 - val_accuracy: 1.0000\n",
            "Epoch 31/50\n",
            "43/43 [==============================] - 1s 17ms/step - loss: 0.0334 - accuracy: 0.9931 - val_loss: 0.0015 - val_accuracy: 1.0000\n",
            "Epoch 32/50\n",
            "43/43 [==============================] - 1s 17ms/step - loss: 0.0246 - accuracy: 0.9944 - val_loss: 4.9595e-04 - val_accuracy: 1.0000\n",
            "Epoch 33/50\n",
            "43/43 [==============================] - 1s 17ms/step - loss: 0.0269 - accuracy: 0.9936 - val_loss: 3.5424e-04 - val_accuracy: 1.0000\n",
            "Epoch 34/50\n",
            "43/43 [==============================] - 1s 17ms/step - loss: 0.0296 - accuracy: 0.9931 - val_loss: 6.3191e-04 - val_accuracy: 1.0000\n",
            "Epoch 35/50\n",
            "43/43 [==============================] - 1s 17ms/step - loss: 0.0257 - accuracy: 0.9940 - val_loss: 1.2622e-04 - val_accuracy: 1.0000\n",
            "Epoch 36/50\n",
            "43/43 [==============================] - 1s 18ms/step - loss: 0.0216 - accuracy: 0.9946 - val_loss: 1.5458e-04 - val_accuracy: 1.0000\n",
            "Epoch 37/50\n",
            "43/43 [==============================] - 1s 20ms/step - loss: 0.0361 - accuracy: 0.9918 - val_loss: 0.0041 - val_accuracy: 0.9995\n",
            "Epoch 38/50\n",
            "43/43 [==============================] - 1s 21ms/step - loss: 0.0336 - accuracy: 0.9917 - val_loss: 2.6878e-04 - val_accuracy: 1.0000\n",
            "Epoch 39/50\n",
            "43/43 [==============================] - 1s 19ms/step - loss: 0.0288 - accuracy: 0.9925 - val_loss: 6.3354e-04 - val_accuracy: 1.0000\n",
            "Epoch 40/50\n",
            "43/43 [==============================] - 1s 20ms/step - loss: 0.0252 - accuracy: 0.9936 - val_loss: 2.2361e-04 - val_accuracy: 1.0000\n",
            "Epoch 41/50\n",
            "43/43 [==============================] - 1s 17ms/step - loss: 0.0290 - accuracy: 0.9933 - val_loss: 5.6565e-04 - val_accuracy: 1.0000\n",
            "Epoch 42/50\n",
            "43/43 [==============================] - 1s 17ms/step - loss: 0.0309 - accuracy: 0.9930 - val_loss: 9.9345e-04 - val_accuracy: 1.0000\n",
            "Epoch 43/50\n",
            "43/43 [==============================] - 1s 17ms/step - loss: 0.0391 - accuracy: 0.9908 - val_loss: 9.5671e-04 - val_accuracy: 1.0000\n",
            "Epoch 44/50\n",
            "43/43 [==============================] - 1s 17ms/step - loss: 0.0241 - accuracy: 0.9936 - val_loss: 2.0254e-04 - val_accuracy: 1.0000\n",
            "Epoch 45/50\n",
            "43/43 [==============================] - 1s 17ms/step - loss: 0.0277 - accuracy: 0.9940 - val_loss: 3.0114e-04 - val_accuracy: 1.0000\n",
            "Epoch 46/50\n",
            "43/43 [==============================] - 1s 17ms/step - loss: 0.0201 - accuracy: 0.9954 - val_loss: 1.5959e-04 - val_accuracy: 1.0000\n",
            "Epoch 47/50\n",
            "43/43 [==============================] - 1s 17ms/step - loss: 0.0273 - accuracy: 0.9930 - val_loss: 2.8774e-04 - val_accuracy: 1.0000\n",
            "Epoch 48/50\n",
            "43/43 [==============================] - 1s 17ms/step - loss: 0.0231 - accuracy: 0.9941 - val_loss: 0.0016 - val_accuracy: 1.0000\n",
            "Epoch 49/50\n",
            "43/43 [==============================] - 1s 17ms/step - loss: 0.0267 - accuracy: 0.9939 - val_loss: 7.5223e-04 - val_accuracy: 1.0000\n",
            "Epoch 50/50\n",
            "43/43 [==============================] - 1s 17ms/step - loss: 0.0239 - accuracy: 0.9944 - val_loss: 2.6344e-04 - val_accuracy: 1.0000\n"
          ]
        }
      ]
    },
    {
      "cell_type": "code",
      "source": [
        "cnn_model.compile(loss ='sparse_categorical_crossentropy', optimizer='adam' ,metrics =['accuracy'])\n",
        "\n",
        "#Training the CNN model\n",
        "history = cnn_model.fit(X_train, y_train, batch_size = 512, epochs = 50, verbose = 1, validation_data = (X_validate, y_validate))"
      ],
      "metadata": {
        "colab": {
          "base_uri": "https://localhost:8080/"
        },
        "id": "sSjixdUpEUUh",
        "outputId": "b43143ac-e3b9-40a3-f915-ee079aa0b01d"
      },
      "execution_count": 53,
      "outputs": [
        {
          "output_type": "stream",
          "name": "stdout",
          "text": [
            "Epoch 1/50\n",
            "43/43 [==============================] - 5s 24ms/step - loss: 0.0360 - accuracy: 0.9925 - val_loss: 2.4459e-04 - val_accuracy: 1.0000\n",
            "Epoch 2/50\n",
            "43/43 [==============================] - 1s 17ms/step - loss: 0.0293 - accuracy: 0.9935 - val_loss: 4.8500e-04 - val_accuracy: 1.0000\n",
            "Epoch 3/50\n",
            "43/43 [==============================] - 1s 17ms/step - loss: 0.0307 - accuracy: 0.9934 - val_loss: 9.9090e-04 - val_accuracy: 0.9996\n",
            "Epoch 4/50\n",
            "43/43 [==============================] - 1s 20ms/step - loss: 0.0359 - accuracy: 0.9921 - val_loss: 1.5054e-04 - val_accuracy: 1.0000\n",
            "Epoch 5/50\n",
            "43/43 [==============================] - 1s 20ms/step - loss: 0.0353 - accuracy: 0.9921 - val_loss: 0.0014 - val_accuracy: 1.0000\n",
            "Epoch 6/50\n",
            "43/43 [==============================] - 1s 20ms/step - loss: 0.0296 - accuracy: 0.9938 - val_loss: 1.5076e-04 - val_accuracy: 1.0000\n",
            "Epoch 7/50\n",
            "43/43 [==============================] - 1s 20ms/step - loss: 0.0264 - accuracy: 0.9941 - val_loss: 1.0787e-04 - val_accuracy: 1.0000\n",
            "Epoch 8/50\n",
            "43/43 [==============================] - 1s 18ms/step - loss: 0.0173 - accuracy: 0.9957 - val_loss: 2.5477e-04 - val_accuracy: 1.0000\n",
            "Epoch 9/50\n",
            "43/43 [==============================] - 1s 17ms/step - loss: 0.0221 - accuracy: 0.9941 - val_loss: 5.9536e-05 - val_accuracy: 1.0000\n",
            "Epoch 10/50\n",
            "43/43 [==============================] - 1s 17ms/step - loss: 0.0244 - accuracy: 0.9946 - val_loss: 1.6216e-04 - val_accuracy: 1.0000\n",
            "Epoch 11/50\n",
            "43/43 [==============================] - 1s 17ms/step - loss: 0.0235 - accuracy: 0.9949 - val_loss: 7.3275e-04 - val_accuracy: 0.9998\n",
            "Epoch 12/50\n",
            "43/43 [==============================] - 1s 17ms/step - loss: 0.0225 - accuracy: 0.9949 - val_loss: 6.2851e-04 - val_accuracy: 1.0000\n",
            "Epoch 13/50\n",
            "43/43 [==============================] - 1s 17ms/step - loss: 0.0331 - accuracy: 0.9933 - val_loss: 0.0022 - val_accuracy: 1.0000\n",
            "Epoch 14/50\n",
            "43/43 [==============================] - 1s 17ms/step - loss: 0.0378 - accuracy: 0.9918 - val_loss: 3.9800e-04 - val_accuracy: 1.0000\n",
            "Epoch 15/50\n",
            "43/43 [==============================] - 1s 17ms/step - loss: 0.0325 - accuracy: 0.9929 - val_loss: 0.0021 - val_accuracy: 0.9998\n",
            "Epoch 16/50\n",
            "43/43 [==============================] - 1s 17ms/step - loss: 0.0306 - accuracy: 0.9936 - val_loss: 4.1312e-04 - val_accuracy: 1.0000\n",
            "Epoch 17/50\n",
            "43/43 [==============================] - 1s 17ms/step - loss: 0.0222 - accuracy: 0.9950 - val_loss: 4.9244e-05 - val_accuracy: 1.0000\n",
            "Epoch 18/50\n",
            "43/43 [==============================] - 1s 17ms/step - loss: 0.0212 - accuracy: 0.9953 - val_loss: 2.6284e-04 - val_accuracy: 1.0000\n",
            "Epoch 19/50\n",
            "43/43 [==============================] - 1s 17ms/step - loss: 0.0248 - accuracy: 0.9946 - val_loss: 3.4627e-04 - val_accuracy: 1.0000\n",
            "Epoch 20/50\n",
            "43/43 [==============================] - 1s 17ms/step - loss: 0.0238 - accuracy: 0.9947 - val_loss: 3.4096e-04 - val_accuracy: 1.0000\n",
            "Epoch 21/50\n",
            "43/43 [==============================] - 1s 17ms/step - loss: 0.0268 - accuracy: 0.9943 - val_loss: 2.2864e-04 - val_accuracy: 1.0000\n",
            "Epoch 22/50\n",
            "43/43 [==============================] - 1s 20ms/step - loss: 0.0196 - accuracy: 0.9955 - val_loss: 1.0801e-04 - val_accuracy: 1.0000\n",
            "Epoch 23/50\n",
            "43/43 [==============================] - 1s 22ms/step - loss: 0.0236 - accuracy: 0.9944 - val_loss: 3.3768e-04 - val_accuracy: 1.0000\n",
            "Epoch 24/50\n",
            "43/43 [==============================] - 1s 20ms/step - loss: 0.0271 - accuracy: 0.9944 - val_loss: 6.1566e-05 - val_accuracy: 1.0000\n",
            "Epoch 25/50\n",
            "43/43 [==============================] - 1s 21ms/step - loss: 0.0299 - accuracy: 0.9943 - val_loss: 1.8453e-04 - val_accuracy: 1.0000\n",
            "Epoch 26/50\n",
            "43/43 [==============================] - 1s 17ms/step - loss: 0.0300 - accuracy: 0.9935 - val_loss: 6.6760e-04 - val_accuracy: 1.0000\n",
            "Epoch 27/50\n",
            "43/43 [==============================] - 1s 17ms/step - loss: 0.0201 - accuracy: 0.9961 - val_loss: 2.7772e-04 - val_accuracy: 1.0000\n",
            "Epoch 28/50\n",
            "43/43 [==============================] - 1s 17ms/step - loss: 0.0253 - accuracy: 0.9945 - val_loss: 7.5663e-04 - val_accuracy: 0.9998\n",
            "Epoch 29/50\n",
            "43/43 [==============================] - 1s 17ms/step - loss: 0.0219 - accuracy: 0.9951 - val_loss: 7.1845e-05 - val_accuracy: 1.0000\n",
            "Epoch 30/50\n",
            "43/43 [==============================] - 1s 17ms/step - loss: 0.0248 - accuracy: 0.9943 - val_loss: 6.5147e-04 - val_accuracy: 1.0000\n",
            "Epoch 31/50\n",
            "43/43 [==============================] - 1s 17ms/step - loss: 0.0241 - accuracy: 0.9943 - val_loss: 1.8530e-04 - val_accuracy: 1.0000\n",
            "Epoch 32/50\n",
            "43/43 [==============================] - 1s 17ms/step - loss: 0.0195 - accuracy: 0.9959 - val_loss: 4.4456e-05 - val_accuracy: 1.0000\n",
            "Epoch 33/50\n",
            "43/43 [==============================] - 1s 17ms/step - loss: 0.0226 - accuracy: 0.9953 - val_loss: 1.6508e-04 - val_accuracy: 1.0000\n",
            "Epoch 34/50\n",
            "43/43 [==============================] - 1s 17ms/step - loss: 0.0203 - accuracy: 0.9954 - val_loss: 1.8380e-04 - val_accuracy: 1.0000\n",
            "Epoch 35/50\n",
            "43/43 [==============================] - 1s 17ms/step - loss: 0.0173 - accuracy: 0.9966 - val_loss: 5.5193e-04 - val_accuracy: 1.0000\n",
            "Epoch 36/50\n",
            "43/43 [==============================] - 1s 17ms/step - loss: 0.0208 - accuracy: 0.9957 - val_loss: 2.4580e-04 - val_accuracy: 1.0000\n",
            "Epoch 37/50\n",
            "43/43 [==============================] - 1s 17ms/step - loss: 0.0159 - accuracy: 0.9966 - val_loss: 9.4096e-05 - val_accuracy: 1.0000\n",
            "Epoch 38/50\n",
            "43/43 [==============================] - 1s 17ms/step - loss: 0.0172 - accuracy: 0.9963 - val_loss: 1.5791e-04 - val_accuracy: 1.0000\n",
            "Epoch 39/50\n",
            "43/43 [==============================] - 1s 18ms/step - loss: 0.0203 - accuracy: 0.9962 - val_loss: 1.7006e-04 - val_accuracy: 1.0000\n",
            "Epoch 40/50\n",
            "43/43 [==============================] - 1s 22ms/step - loss: 0.0130 - accuracy: 0.9970 - val_loss: 5.5086e-06 - val_accuracy: 1.0000\n",
            "Epoch 41/50\n",
            "43/43 [==============================] - 1s 20ms/step - loss: 0.0193 - accuracy: 0.9955 - val_loss: 2.7393e-04 - val_accuracy: 1.0000\n",
            "Epoch 42/50\n",
            "43/43 [==============================] - 1s 20ms/step - loss: 0.0266 - accuracy: 0.9944 - val_loss: 4.3229e-04 - val_accuracy: 1.0000\n",
            "Epoch 43/50\n",
            "43/43 [==============================] - 1s 19ms/step - loss: 0.0447 - accuracy: 0.9905 - val_loss: 5.4985e-04 - val_accuracy: 1.0000\n",
            "Epoch 44/50\n",
            "43/43 [==============================] - 1s 17ms/step - loss: 0.0268 - accuracy: 0.9944 - val_loss: 2.7372e-04 - val_accuracy: 1.0000\n",
            "Epoch 45/50\n",
            "43/43 [==============================] - 1s 17ms/step - loss: 0.0198 - accuracy: 0.9954 - val_loss: 1.5529e-05 - val_accuracy: 1.0000\n",
            "Epoch 46/50\n",
            "43/43 [==============================] - 1s 17ms/step - loss: 0.0320 - accuracy: 0.9932 - val_loss: 6.1382e-05 - val_accuracy: 1.0000\n",
            "Epoch 47/50\n",
            "43/43 [==============================] - 1s 17ms/step - loss: 0.0185 - accuracy: 0.9954 - val_loss: 5.9940e-05 - val_accuracy: 1.0000\n",
            "Epoch 48/50\n",
            "43/43 [==============================] - 1s 17ms/step - loss: 0.0202 - accuracy: 0.9959 - val_loss: 4.6805e-05 - val_accuracy: 1.0000\n",
            "Epoch 49/50\n",
            "43/43 [==============================] - 1s 17ms/step - loss: 0.0200 - accuracy: 0.9961 - val_loss: 9.8326e-05 - val_accuracy: 1.0000\n",
            "Epoch 50/50\n",
            "43/43 [==============================] - 1s 17ms/step - loss: 0.0159 - accuracy: 0.9961 - val_loss: 9.6003e-05 - val_accuracy: 1.0000\n"
          ]
        }
      ]
    },
    {
      "cell_type": "code",
      "source": [
        "cnn_model.compile(loss ='sparse_categorical_crossentropy', optimizer='adam' ,metrics =['accuracy'])\n",
        "\n",
        "#Training the CNN model\n",
        "history = cnn_model.fit(X_train, y_train, batch_size = 512, epochs = 50, verbose = 1, validation_data = (X_validate, y_validate))"
      ],
      "metadata": {
        "colab": {
          "base_uri": "https://localhost:8080/"
        },
        "id": "k9cj3kWyFJ9g",
        "outputId": "1a2e4309-0135-4870-a07b-4d931413854c"
      },
      "execution_count": 54,
      "outputs": [
        {
          "output_type": "stream",
          "name": "stdout",
          "text": [
            "Epoch 1/50\n",
            "43/43 [==============================] - 7s 24ms/step - loss: 0.0311 - accuracy: 0.9939 - val_loss: 1.4750e-04 - val_accuracy: 1.0000\n",
            "Epoch 2/50\n",
            "43/43 [==============================] - 1s 17ms/step - loss: 0.0183 - accuracy: 0.9964 - val_loss: 5.2747e-05 - val_accuracy: 1.0000\n",
            "Epoch 3/50\n",
            "43/43 [==============================] - 1s 17ms/step - loss: 0.0176 - accuracy: 0.9959 - val_loss: 5.4608e-05 - val_accuracy: 1.0000\n",
            "Epoch 4/50\n",
            "43/43 [==============================] - 1s 17ms/step - loss: 0.0180 - accuracy: 0.9960 - val_loss: 3.3280e-05 - val_accuracy: 1.0000\n",
            "Epoch 5/50\n",
            "43/43 [==============================] - 1s 17ms/step - loss: 0.0270 - accuracy: 0.9945 - val_loss: 4.1936e-04 - val_accuracy: 1.0000\n",
            "Epoch 6/50\n",
            "43/43 [==============================] - 1s 17ms/step - loss: 0.0244 - accuracy: 0.9947 - val_loss: 4.4638e-05 - val_accuracy: 1.0000\n",
            "Epoch 7/50\n",
            "43/43 [==============================] - 1s 17ms/step - loss: 0.0182 - accuracy: 0.9959 - val_loss: 3.9589e-05 - val_accuracy: 1.0000\n",
            "Epoch 8/50\n",
            "43/43 [==============================] - 1s 17ms/step - loss: 0.0240 - accuracy: 0.9951 - val_loss: 4.3488e-04 - val_accuracy: 1.0000\n",
            "Epoch 9/50\n",
            "43/43 [==============================] - 1s 17ms/step - loss: 0.0222 - accuracy: 0.9953 - val_loss: 1.1477e-04 - val_accuracy: 1.0000\n",
            "Epoch 10/50\n",
            "43/43 [==============================] - 1s 17ms/step - loss: 0.0273 - accuracy: 0.9946 - val_loss: 9.3889e-05 - val_accuracy: 1.0000\n",
            "Epoch 11/50\n",
            "43/43 [==============================] - 1s 17ms/step - loss: 0.0120 - accuracy: 0.9975 - val_loss: 4.8427e-05 - val_accuracy: 1.0000\n",
            "Epoch 12/50\n",
            "43/43 [==============================] - 1s 20ms/step - loss: 0.0227 - accuracy: 0.9955 - val_loss: 5.7006e-04 - val_accuracy: 1.0000\n",
            "Epoch 13/50\n",
            "43/43 [==============================] - 1s 19ms/step - loss: 0.0270 - accuracy: 0.9943 - val_loss: 2.8507e-04 - val_accuracy: 1.0000\n",
            "Epoch 14/50\n",
            "43/43 [==============================] - 1s 19ms/step - loss: 0.0258 - accuracy: 0.9948 - val_loss: 0.0014 - val_accuracy: 0.9998\n",
            "Epoch 15/50\n",
            "43/43 [==============================] - 1s 19ms/step - loss: 0.0343 - accuracy: 0.9933 - val_loss: 2.4822e-04 - val_accuracy: 1.0000\n",
            "Epoch 16/50\n",
            "43/43 [==============================] - 1s 21ms/step - loss: 0.0188 - accuracy: 0.9957 - val_loss: 1.0139e-04 - val_accuracy: 1.0000\n",
            "Epoch 17/50\n",
            "43/43 [==============================] - 1s 17ms/step - loss: 0.0221 - accuracy: 0.9954 - val_loss: 2.0835e-04 - val_accuracy: 1.0000\n",
            "Epoch 18/50\n",
            "43/43 [==============================] - 1s 17ms/step - loss: 0.0233 - accuracy: 0.9954 - val_loss: 1.6564e-04 - val_accuracy: 1.0000\n",
            "Epoch 19/50\n",
            "43/43 [==============================] - 1s 17ms/step - loss: 0.0188 - accuracy: 0.9959 - val_loss: 3.6285e-05 - val_accuracy: 1.0000\n",
            "Epoch 20/50\n",
            "43/43 [==============================] - 1s 17ms/step - loss: 0.0145 - accuracy: 0.9969 - val_loss: 4.0997e-05 - val_accuracy: 1.0000\n",
            "Epoch 21/50\n",
            "43/43 [==============================] - 1s 17ms/step - loss: 0.0170 - accuracy: 0.9971 - val_loss: 2.1649e-04 - val_accuracy: 1.0000\n",
            "Epoch 22/50\n",
            "43/43 [==============================] - 1s 17ms/step - loss: 0.0131 - accuracy: 0.9971 - val_loss: 2.1947e-05 - val_accuracy: 1.0000\n",
            "Epoch 23/50\n",
            "43/43 [==============================] - 1s 17ms/step - loss: 0.0231 - accuracy: 0.9955 - val_loss: 1.3397e-05 - val_accuracy: 1.0000\n",
            "Epoch 24/50\n",
            "43/43 [==============================] - 1s 17ms/step - loss: 0.0193 - accuracy: 0.9959 - val_loss: 1.9055e-04 - val_accuracy: 1.0000\n",
            "Epoch 25/50\n",
            "43/43 [==============================] - 1s 17ms/step - loss: 0.0147 - accuracy: 0.9969 - val_loss: 1.0764e-05 - val_accuracy: 1.0000\n",
            "Epoch 26/50\n",
            "43/43 [==============================] - 1s 17ms/step - loss: 0.0166 - accuracy: 0.9965 - val_loss: 5.6658e-05 - val_accuracy: 1.0000\n",
            "Epoch 27/50\n",
            "43/43 [==============================] - 1s 17ms/step - loss: 0.0177 - accuracy: 0.9956 - val_loss: 9.9197e-05 - val_accuracy: 1.0000\n",
            "Epoch 28/50\n",
            "43/43 [==============================] - 1s 17ms/step - loss: 0.0174 - accuracy: 0.9963 - val_loss: 3.3469e-04 - val_accuracy: 1.0000\n",
            "Epoch 29/50\n",
            "43/43 [==============================] - 1s 17ms/step - loss: 0.0161 - accuracy: 0.9965 - val_loss: 8.1808e-05 - val_accuracy: 1.0000\n",
            "Epoch 30/50\n",
            "43/43 [==============================] - 1s 18ms/step - loss: 0.0166 - accuracy: 0.9967 - val_loss: 6.1035e-05 - val_accuracy: 1.0000\n",
            "Epoch 31/50\n",
            "43/43 [==============================] - 1s 20ms/step - loss: 0.0162 - accuracy: 0.9970 - val_loss: 9.5994e-05 - val_accuracy: 1.0000\n",
            "Epoch 32/50\n",
            "43/43 [==============================] - 1s 20ms/step - loss: 0.0132 - accuracy: 0.9976 - val_loss: 0.0020 - val_accuracy: 0.9998\n",
            "Epoch 33/50\n",
            "43/43 [==============================] - 1s 19ms/step - loss: 0.0265 - accuracy: 0.9945 - val_loss: 2.0916e-05 - val_accuracy: 1.0000\n",
            "Epoch 34/50\n",
            "43/43 [==============================] - 1s 19ms/step - loss: 0.0141 - accuracy: 0.9969 - val_loss: 3.8134e-05 - val_accuracy: 1.0000\n",
            "Epoch 35/50\n",
            "43/43 [==============================] - 1s 17ms/step - loss: 0.0218 - accuracy: 0.9958 - val_loss: 1.0399e-04 - val_accuracy: 1.0000\n",
            "Epoch 36/50\n",
            "43/43 [==============================] - 1s 17ms/step - loss: 0.0168 - accuracy: 0.9962 - val_loss: 2.1150e-04 - val_accuracy: 1.0000\n",
            "Epoch 37/50\n",
            "43/43 [==============================] - 1s 17ms/step - loss: 0.0153 - accuracy: 0.9969 - val_loss: 8.4352e-04 - val_accuracy: 0.9998\n",
            "Epoch 38/50\n",
            "43/43 [==============================] - 1s 17ms/step - loss: 0.0191 - accuracy: 0.9957 - val_loss: 3.5143e-04 - val_accuracy: 1.0000\n",
            "Epoch 39/50\n",
            "43/43 [==============================] - 1s 17ms/step - loss: 0.0197 - accuracy: 0.9957 - val_loss: 4.2291e-04 - val_accuracy: 1.0000\n",
            "Epoch 40/50\n",
            "43/43 [==============================] - 1s 17ms/step - loss: 0.0182 - accuracy: 0.9953 - val_loss: 2.6814e-05 - val_accuracy: 1.0000\n",
            "Epoch 41/50\n",
            "43/43 [==============================] - 1s 17ms/step - loss: 0.0216 - accuracy: 0.9951 - val_loss: 1.5391e-04 - val_accuracy: 1.0000\n",
            "Epoch 42/50\n",
            "43/43 [==============================] - 1s 17ms/step - loss: 0.0124 - accuracy: 0.9971 - val_loss: 1.2272e-04 - val_accuracy: 1.0000\n",
            "Epoch 43/50\n",
            "43/43 [==============================] - 1s 17ms/step - loss: 0.0201 - accuracy: 0.9958 - val_loss: 3.1340e-05 - val_accuracy: 1.0000\n",
            "Epoch 44/50\n",
            "43/43 [==============================] - 1s 17ms/step - loss: 0.0139 - accuracy: 0.9963 - val_loss: 2.1227e-05 - val_accuracy: 1.0000\n",
            "Epoch 45/50\n",
            "43/43 [==============================] - 1s 17ms/step - loss: 0.0102 - accuracy: 0.9976 - val_loss: 3.6427e-05 - val_accuracy: 1.0000\n",
            "Epoch 46/50\n",
            "43/43 [==============================] - 1s 17ms/step - loss: 0.0243 - accuracy: 0.9953 - val_loss: 1.5862e-04 - val_accuracy: 1.0000\n",
            "Epoch 47/50\n",
            "43/43 [==============================] - 1s 17ms/step - loss: 0.0160 - accuracy: 0.9968 - val_loss: 1.0596e-04 - val_accuracy: 1.0000\n",
            "Epoch 48/50\n",
            "43/43 [==============================] - 1s 18ms/step - loss: 0.0141 - accuracy: 0.9969 - val_loss: 1.0827e-04 - val_accuracy: 1.0000\n",
            "Epoch 49/50\n",
            "43/43 [==============================] - 1s 19ms/step - loss: 0.0145 - accuracy: 0.9972 - val_loss: 2.6806e-05 - val_accuracy: 1.0000\n",
            "Epoch 50/50\n",
            "43/43 [==============================] - 1s 20ms/step - loss: 0.0107 - accuracy: 0.9972 - val_loss: 2.8929e-05 - val_accuracy: 1.0000\n"
          ]
        }
      ]
    },
    {
      "cell_type": "code",
      "source": [
        "cnn_model.compile(loss ='sparse_categorical_crossentropy', optimizer='adam' ,metrics =['accuracy'])\n",
        "\n",
        "#Training the CNN model\n",
        "history = cnn_model.fit(X_train, y_train, batch_size = 512, epochs = 50, verbose = 1, validation_data = (X_validate, y_validate))"
      ],
      "metadata": {
        "colab": {
          "base_uri": "https://localhost:8080/"
        },
        "id": "QCraRtg_F7iL",
        "outputId": "ff42b71c-e622-44a8-bd20-6efb4312f526"
      },
      "execution_count": 58,
      "outputs": [
        {
          "output_type": "stream",
          "name": "stdout",
          "text": [
            "Epoch 1/50\n",
            "43/43 [==============================] - 6s 29ms/step - loss: 0.0183 - accuracy: 0.9964 - val_loss: 6.5200e-05 - val_accuracy: 1.0000\n",
            "Epoch 2/50\n",
            "43/43 [==============================] - 1s 19ms/step - loss: 0.0167 - accuracy: 0.9965 - val_loss: 4.7274e-05 - val_accuracy: 1.0000\n",
            "Epoch 3/50\n",
            "43/43 [==============================] - 1s 19ms/step - loss: 0.0183 - accuracy: 0.9965 - val_loss: 4.4014e-05 - val_accuracy: 1.0000\n",
            "Epoch 4/50\n",
            "43/43 [==============================] - 1s 17ms/step - loss: 0.0105 - accuracy: 0.9980 - val_loss: 8.0149e-06 - val_accuracy: 1.0000\n",
            "Epoch 5/50\n",
            "43/43 [==============================] - 1s 17ms/step - loss: 0.0216 - accuracy: 0.9964 - val_loss: 8.5299e-05 - val_accuracy: 1.0000\n",
            "Epoch 6/50\n",
            "43/43 [==============================] - 1s 17ms/step - loss: 0.0118 - accuracy: 0.9975 - val_loss: 9.3427e-06 - val_accuracy: 1.0000\n",
            "Epoch 7/50\n",
            "43/43 [==============================] - 1s 17ms/step - loss: 0.0100 - accuracy: 0.9978 - val_loss: 5.4025e-06 - val_accuracy: 1.0000\n",
            "Epoch 8/50\n",
            "43/43 [==============================] - 1s 17ms/step - loss: 0.0373 - accuracy: 0.9935 - val_loss: 1.1290e-04 - val_accuracy: 1.0000\n",
            "Epoch 9/50\n",
            "43/43 [==============================] - 1s 16ms/step - loss: 0.0384 - accuracy: 0.9941 - val_loss: 4.7940e-04 - val_accuracy: 1.0000\n",
            "Epoch 10/50\n",
            "43/43 [==============================] - 1s 17ms/step - loss: 0.0195 - accuracy: 0.9963 - val_loss: 2.3158e-04 - val_accuracy: 1.0000\n",
            "Epoch 11/50\n",
            "43/43 [==============================] - 1s 16ms/step - loss: 0.0147 - accuracy: 0.9965 - val_loss: 4.3978e-05 - val_accuracy: 1.0000\n",
            "Epoch 12/50\n",
            "43/43 [==============================] - 1s 16ms/step - loss: 0.0215 - accuracy: 0.9956 - val_loss: 3.5059e-05 - val_accuracy: 1.0000\n",
            "Epoch 13/50\n",
            "43/43 [==============================] - 1s 16ms/step - loss: 0.0171 - accuracy: 0.9969 - val_loss: 7.0930e-05 - val_accuracy: 1.0000\n",
            "Epoch 14/50\n",
            "43/43 [==============================] - 1s 16ms/step - loss: 0.0137 - accuracy: 0.9964 - val_loss: 1.7789e-05 - val_accuracy: 1.0000\n",
            "Epoch 15/50\n",
            "43/43 [==============================] - 1s 17ms/step - loss: 0.0092 - accuracy: 0.9977 - val_loss: 1.3852e-05 - val_accuracy: 1.0000\n",
            "Epoch 16/50\n",
            "43/43 [==============================] - 1s 16ms/step - loss: 0.0228 - accuracy: 0.9954 - val_loss: 2.4289e-04 - val_accuracy: 1.0000\n",
            "Epoch 17/50\n",
            "43/43 [==============================] - 1s 17ms/step - loss: 0.0147 - accuracy: 0.9969 - val_loss: 1.3522e-04 - val_accuracy: 1.0000\n",
            "Epoch 18/50\n",
            "43/43 [==============================] - 1s 21ms/step - loss: 0.0178 - accuracy: 0.9963 - val_loss: 4.9025e-04 - val_accuracy: 1.0000\n",
            "Epoch 19/50\n",
            "43/43 [==============================] - 1s 20ms/step - loss: 0.0214 - accuracy: 0.9954 - val_loss: 2.2795e-04 - val_accuracy: 0.9998\n",
            "Epoch 20/50\n",
            "43/43 [==============================] - 1s 19ms/step - loss: 0.0155 - accuracy: 0.9968 - val_loss: 3.6699e-05 - val_accuracy: 1.0000\n",
            "Epoch 21/50\n",
            "43/43 [==============================] - 1s 20ms/step - loss: 0.0095 - accuracy: 0.9984 - val_loss: 4.5569e-05 - val_accuracy: 1.0000\n",
            "Epoch 22/50\n",
            "43/43 [==============================] - 1s 17ms/step - loss: 0.0127 - accuracy: 0.9969 - val_loss: 1.9215e-05 - val_accuracy: 1.0000\n",
            "Epoch 23/50\n",
            "43/43 [==============================] - 1s 17ms/step - loss: 0.0136 - accuracy: 0.9966 - val_loss: 2.4840e-05 - val_accuracy: 1.0000\n",
            "Epoch 24/50\n",
            "43/43 [==============================] - 1s 17ms/step - loss: 0.0085 - accuracy: 0.9981 - val_loss: 1.7170e-05 - val_accuracy: 1.0000\n",
            "Epoch 25/50\n",
            "43/43 [==============================] - 1s 17ms/step - loss: 0.0144 - accuracy: 0.9972 - val_loss: 3.1539e-05 - val_accuracy: 1.0000\n",
            "Epoch 26/50\n",
            "43/43 [==============================] - 1s 17ms/step - loss: 0.0148 - accuracy: 0.9968 - val_loss: 5.0250e-05 - val_accuracy: 1.0000\n",
            "Epoch 27/50\n",
            "43/43 [==============================] - 1s 17ms/step - loss: 0.0186 - accuracy: 0.9964 - val_loss: 7.4283e-06 - val_accuracy: 1.0000\n",
            "Epoch 28/50\n",
            "43/43 [==============================] - 1s 17ms/step - loss: 0.0197 - accuracy: 0.9960 - val_loss: 4.7880e-04 - val_accuracy: 1.0000\n",
            "Epoch 29/50\n",
            "43/43 [==============================] - 1s 17ms/step - loss: 0.0202 - accuracy: 0.9959 - val_loss: 6.5029e-05 - val_accuracy: 1.0000\n",
            "Epoch 30/50\n",
            "43/43 [==============================] - 1s 17ms/step - loss: 0.0185 - accuracy: 0.9960 - val_loss: 4.1232e-04 - val_accuracy: 1.0000\n",
            "Epoch 31/50\n",
            "43/43 [==============================] - 1s 17ms/step - loss: 0.0107 - accuracy: 0.9975 - val_loss: 4.3109e-06 - val_accuracy: 1.0000\n",
            "Epoch 32/50\n",
            "43/43 [==============================] - 1s 17ms/step - loss: 0.0099 - accuracy: 0.9980 - val_loss: 1.6570e-04 - val_accuracy: 1.0000\n",
            "Epoch 33/50\n",
            "43/43 [==============================] - 1s 17ms/step - loss: 0.0115 - accuracy: 0.9972 - val_loss: 1.6390e-05 - val_accuracy: 1.0000\n",
            "Epoch 34/50\n",
            "43/43 [==============================] - 1s 17ms/step - loss: 0.0136 - accuracy: 0.9973 - val_loss: 1.2199e-05 - val_accuracy: 1.0000\n",
            "Epoch 35/50\n",
            "43/43 [==============================] - 1s 20ms/step - loss: 0.0128 - accuracy: 0.9971 - val_loss: 1.6673e-04 - val_accuracy: 1.0000\n",
            "Epoch 36/50\n",
            "43/43 [==============================] - 1s 20ms/step - loss: 0.0150 - accuracy: 0.9972 - val_loss: 5.8675e-06 - val_accuracy: 1.0000\n",
            "Epoch 37/50\n",
            "43/43 [==============================] - 1s 20ms/step - loss: 0.0085 - accuracy: 0.9980 - val_loss: 1.4677e-05 - val_accuracy: 1.0000\n",
            "Epoch 38/50\n",
            "43/43 [==============================] - 1s 20ms/step - loss: 0.0092 - accuracy: 0.9977 - val_loss: 4.7860e-05 - val_accuracy: 1.0000\n",
            "Epoch 39/50\n",
            "43/43 [==============================] - 1s 20ms/step - loss: 0.0137 - accuracy: 0.9973 - val_loss: 1.1066e-05 - val_accuracy: 1.0000\n",
            "Epoch 40/50\n",
            "43/43 [==============================] - 1s 17ms/step - loss: 0.0141 - accuracy: 0.9965 - val_loss: 1.3342e-05 - val_accuracy: 1.0000\n",
            "Epoch 41/50\n",
            "43/43 [==============================] - 1s 17ms/step - loss: 0.0424 - accuracy: 0.9933 - val_loss: 0.0120 - val_accuracy: 0.9993\n",
            "Epoch 42/50\n",
            "43/43 [==============================] - 1s 17ms/step - loss: 0.0414 - accuracy: 0.9921 - val_loss: 3.1325e-04 - val_accuracy: 1.0000\n",
            "Epoch 43/50\n",
            "43/43 [==============================] - 1s 17ms/step - loss: 0.0216 - accuracy: 0.9958 - val_loss: 2.3721e-04 - val_accuracy: 1.0000\n",
            "Epoch 44/50\n",
            "43/43 [==============================] - 1s 17ms/step - loss: 0.0308 - accuracy: 0.9935 - val_loss: 0.0011 - val_accuracy: 1.0000\n",
            "Epoch 45/50\n",
            "43/43 [==============================] - 1s 17ms/step - loss: 0.0305 - accuracy: 0.9930 - val_loss: 6.0313e-04 - val_accuracy: 1.0000\n",
            "Epoch 46/50\n",
            "43/43 [==============================] - 1s 18ms/step - loss: 0.0262 - accuracy: 0.9940 - val_loss: 7.1556e-05 - val_accuracy: 1.0000\n",
            "Epoch 47/50\n",
            "43/43 [==============================] - 1s 17ms/step - loss: 0.0166 - accuracy: 0.9963 - val_loss: 3.1792e-05 - val_accuracy: 1.0000\n",
            "Epoch 48/50\n",
            "43/43 [==============================] - 1s 17ms/step - loss: 0.0185 - accuracy: 0.9961 - val_loss: 3.2784e-05 - val_accuracy: 1.0000\n",
            "Epoch 49/50\n",
            "43/43 [==============================] - 1s 17ms/step - loss: 0.0116 - accuracy: 0.9975 - val_loss: 7.4548e-05 - val_accuracy: 1.0000\n",
            "Epoch 50/50\n",
            "43/43 [==============================] - 1s 17ms/step - loss: 0.0142 - accuracy: 0.9971 - val_loss: 1.0807e-04 - val_accuracy: 1.0000\n"
          ]
        }
      ]
    },
    {
      "cell_type": "code",
      "source": [
        "cnn_model.compile(loss ='sparse_categorical_crossentropy', optimizer='adam' ,metrics =['accuracy'])\n",
        "\n",
        "#Training the CNN model\n",
        "history = cnn_model.fit(X_train, y_train, batch_size = 512, epochs = 50, verbose = 1, validation_data = (X_validate, y_validate))"
      ],
      "metadata": {
        "colab": {
          "base_uri": "https://localhost:8080/"
        },
        "id": "Ztuejbm7F8po",
        "outputId": "a8ff637d-15e2-4bf9-8da5-4210b6b299dd"
      },
      "execution_count": 62,
      "outputs": [
        {
          "output_type": "stream",
          "name": "stdout",
          "text": [
            "Epoch 1/50\n",
            "43/43 [==============================] - 5s 24ms/step - loss: 0.0162 - accuracy: 0.9969 - val_loss: 2.2786e-05 - val_accuracy: 1.0000\n",
            "Epoch 2/50\n",
            "43/43 [==============================] - 1s 17ms/step - loss: 0.0198 - accuracy: 0.9967 - val_loss: 9.8006e-05 - val_accuracy: 1.0000\n",
            "Epoch 3/50\n",
            "43/43 [==============================] - 1s 16ms/step - loss: 0.0166 - accuracy: 0.9964 - val_loss: 3.5402e-05 - val_accuracy: 1.0000\n",
            "Epoch 4/50\n",
            "43/43 [==============================] - 1s 17ms/step - loss: 0.0189 - accuracy: 0.9969 - val_loss: 9.6308e-05 - val_accuracy: 1.0000\n",
            "Epoch 5/50\n",
            "43/43 [==============================] - 1s 17ms/step - loss: 0.0141 - accuracy: 0.9972 - val_loss: 9.6495e-06 - val_accuracy: 1.0000\n",
            "Epoch 6/50\n",
            "43/43 [==============================] - 1s 17ms/step - loss: 0.0163 - accuracy: 0.9966 - val_loss: 1.2786e-05 - val_accuracy: 1.0000\n",
            "Epoch 7/50\n",
            "43/43 [==============================] - 1s 17ms/step - loss: 0.0196 - accuracy: 0.9962 - val_loss: 9.5148e-06 - val_accuracy: 1.0000\n",
            "Epoch 8/50\n",
            "43/43 [==============================] - 1s 18ms/step - loss: 0.0095 - accuracy: 0.9985 - val_loss: 2.2109e-05 - val_accuracy: 1.0000\n",
            "Epoch 9/50\n",
            "43/43 [==============================] - 1s 20ms/step - loss: 0.0156 - accuracy: 0.9968 - val_loss: 5.2207e-05 - val_accuracy: 1.0000\n",
            "Epoch 10/50\n",
            "43/43 [==============================] - 1s 20ms/step - loss: 0.0107 - accuracy: 0.9979 - val_loss: 2.9294e-06 - val_accuracy: 1.0000\n",
            "Epoch 11/50\n",
            "43/43 [==============================] - 1s 20ms/step - loss: 0.0080 - accuracy: 0.9983 - val_loss: 1.3127e-05 - val_accuracy: 1.0000\n",
            "Epoch 12/50\n",
            "43/43 [==============================] - 1s 19ms/step - loss: 0.0226 - accuracy: 0.9955 - val_loss: 7.6434e-04 - val_accuracy: 1.0000\n",
            "Epoch 13/50\n",
            "43/43 [==============================] - 1s 17ms/step - loss: 0.0355 - accuracy: 0.9936 - val_loss: 2.5471e-04 - val_accuracy: 1.0000\n",
            "Epoch 14/50\n",
            "43/43 [==============================] - 1s 17ms/step - loss: 0.0178 - accuracy: 0.9965 - val_loss: 4.4085e-05 - val_accuracy: 1.0000\n",
            "Epoch 15/50\n",
            "43/43 [==============================] - 1s 17ms/step - loss: 0.0232 - accuracy: 0.9949 - val_loss: 1.4244e-04 - val_accuracy: 1.0000\n",
            "Epoch 16/50\n",
            "43/43 [==============================] - 1s 17ms/step - loss: 0.0165 - accuracy: 0.9966 - val_loss: 3.8073e-05 - val_accuracy: 1.0000\n",
            "Epoch 17/50\n",
            "43/43 [==============================] - 1s 17ms/step - loss: 0.0113 - accuracy: 0.9978 - val_loss: 3.7211e-05 - val_accuracy: 1.0000\n",
            "Epoch 18/50\n",
            "43/43 [==============================] - 1s 17ms/step - loss: 0.0119 - accuracy: 0.9978 - val_loss: 8.8280e-05 - val_accuracy: 1.0000\n",
            "Epoch 19/50\n",
            "43/43 [==============================] - 1s 17ms/step - loss: 0.0150 - accuracy: 0.9973 - val_loss: 1.6032e-05 - val_accuracy: 1.0000\n",
            "Epoch 20/50\n",
            "43/43 [==============================] - 1s 17ms/step - loss: 0.0177 - accuracy: 0.9968 - val_loss: 7.1251e-05 - val_accuracy: 1.0000\n",
            "Epoch 21/50\n",
            "43/43 [==============================] - 1s 17ms/step - loss: 0.0169 - accuracy: 0.9969 - val_loss: 2.5337e-05 - val_accuracy: 1.0000\n",
            "Epoch 22/50\n",
            "43/43 [==============================] - 1s 17ms/step - loss: 0.0082 - accuracy: 0.9982 - val_loss: 2.4417e-06 - val_accuracy: 1.0000\n",
            "Epoch 23/50\n",
            "43/43 [==============================] - 1s 17ms/step - loss: 0.0191 - accuracy: 0.9961 - val_loss: 4.1104e-05 - val_accuracy: 1.0000\n",
            "Epoch 24/50\n",
            "43/43 [==============================] - 1s 17ms/step - loss: 0.0145 - accuracy: 0.9969 - val_loss: 6.5864e-04 - val_accuracy: 0.9998\n",
            "Epoch 25/50\n",
            "43/43 [==============================] - 1s 17ms/step - loss: 0.0207 - accuracy: 0.9957 - val_loss: 2.3301e-04 - val_accuracy: 1.0000\n",
            "Epoch 26/50\n",
            "43/43 [==============================] - 1s 18ms/step - loss: 0.0103 - accuracy: 0.9978 - val_loss: 4.1953e-05 - val_accuracy: 1.0000\n",
            "Epoch 27/50\n",
            "43/43 [==============================] - 1s 20ms/step - loss: 0.0214 - accuracy: 0.9966 - val_loss: 8.3101e-05 - val_accuracy: 1.0000\n",
            "Epoch 28/50\n",
            "43/43 [==============================] - 1s 20ms/step - loss: 0.0136 - accuracy: 0.9974 - val_loss: 8.9386e-05 - val_accuracy: 1.0000\n",
            "Epoch 29/50\n",
            "43/43 [==============================] - 1s 19ms/step - loss: 0.0205 - accuracy: 0.9964 - val_loss: 2.9931e-05 - val_accuracy: 1.0000\n",
            "Epoch 30/50\n",
            "43/43 [==============================] - 1s 19ms/step - loss: 0.0089 - accuracy: 0.9983 - val_loss: 6.3485e-06 - val_accuracy: 1.0000\n",
            "Epoch 31/50\n",
            "43/43 [==============================] - 1s 17ms/step - loss: 0.0109 - accuracy: 0.9978 - val_loss: 1.5925e-05 - val_accuracy: 1.0000\n",
            "Epoch 32/50\n",
            "43/43 [==============================] - 1s 17ms/step - loss: 0.0104 - accuracy: 0.9983 - val_loss: 4.1665e-06 - val_accuracy: 1.0000\n",
            "Epoch 33/50\n",
            "43/43 [==============================] - 1s 17ms/step - loss: 0.0111 - accuracy: 0.9980 - val_loss: 1.8820e-04 - val_accuracy: 1.0000\n",
            "Epoch 34/50\n",
            "43/43 [==============================] - 1s 17ms/step - loss: 0.0093 - accuracy: 0.9982 - val_loss: 5.7345e-05 - val_accuracy: 1.0000\n",
            "Epoch 35/50\n",
            "43/43 [==============================] - 1s 17ms/step - loss: 0.0096 - accuracy: 0.9977 - val_loss: 7.3419e-05 - val_accuracy: 1.0000\n",
            "Epoch 36/50\n",
            "43/43 [==============================] - 1s 17ms/step - loss: 0.0149 - accuracy: 0.9969 - val_loss: 2.7276e-05 - val_accuracy: 1.0000\n",
            "Epoch 37/50\n",
            "43/43 [==============================] - 1s 17ms/step - loss: 0.0101 - accuracy: 0.9978 - val_loss: 9.6262e-06 - val_accuracy: 1.0000\n",
            "Epoch 38/50\n",
            "43/43 [==============================] - 1s 17ms/step - loss: 0.0082 - accuracy: 0.9980 - val_loss: 2.3833e-05 - val_accuracy: 1.0000\n",
            "Epoch 39/50\n",
            "43/43 [==============================] - 1s 17ms/step - loss: 0.0114 - accuracy: 0.9979 - val_loss: 1.8707e-04 - val_accuracy: 1.0000\n",
            "Epoch 40/50\n",
            "43/43 [==============================] - 1s 17ms/step - loss: 0.0073 - accuracy: 0.9985 - val_loss: 3.4751e-05 - val_accuracy: 1.0000\n",
            "Epoch 41/50\n",
            "43/43 [==============================] - 1s 17ms/step - loss: 0.0132 - accuracy: 0.9973 - val_loss: 7.2696e-05 - val_accuracy: 1.0000\n",
            "Epoch 42/50\n",
            "43/43 [==============================] - 1s 17ms/step - loss: 0.0079 - accuracy: 0.9984 - val_loss: 3.7272e-06 - val_accuracy: 1.0000\n",
            "Epoch 43/50\n",
            "43/43 [==============================] - 1s 17ms/step - loss: 0.0136 - accuracy: 0.9973 - val_loss: 1.4994e-05 - val_accuracy: 1.0000\n",
            "Epoch 44/50\n",
            "43/43 [==============================] - 1s 19ms/step - loss: 0.0203 - accuracy: 0.9957 - val_loss: 8.5002e-04 - val_accuracy: 1.0000\n",
            "Epoch 45/50\n",
            "43/43 [==============================] - 1s 20ms/step - loss: 0.0203 - accuracy: 0.9957 - val_loss: 2.3772e-05 - val_accuracy: 1.0000\n",
            "Epoch 46/50\n",
            "43/43 [==============================] - 1s 22ms/step - loss: 0.0125 - accuracy: 0.9972 - val_loss: 2.0931e-05 - val_accuracy: 1.0000\n",
            "Epoch 47/50\n",
            "43/43 [==============================] - 1s 20ms/step - loss: 0.0071 - accuracy: 0.9983 - val_loss: 2.2929e-05 - val_accuracy: 1.0000\n",
            "Epoch 48/50\n",
            "43/43 [==============================] - 1s 19ms/step - loss: 0.0117 - accuracy: 0.9975 - val_loss: 8.7880e-05 - val_accuracy: 1.0000\n",
            "Epoch 49/50\n",
            "43/43 [==============================] - 1s 17ms/step - loss: 0.0111 - accuracy: 0.9979 - val_loss: 2.1089e-05 - val_accuracy: 1.0000\n",
            "Epoch 50/50\n",
            "43/43 [==============================] - 1s 17ms/step - loss: 0.0156 - accuracy: 0.9969 - val_loss: 4.1431e-05 - val_accuracy: 1.0000\n"
          ]
        }
      ]
    },
    {
      "cell_type": "code",
      "source": [
        "cnn_model.compile(loss ='sparse_categorical_crossentropy', optimizer='adam' ,metrics =['accuracy'])\n",
        "\n",
        "#Training the CNN model\n",
        "history = cnn_model.fit(X_train, y_train, batch_size = 512, epochs = 50, verbose = 1, validation_data = (X_validate, y_validate))"
      ],
      "metadata": {
        "id": "P1cf45A1GGPE",
        "colab": {
          "base_uri": "https://localhost:8080/"
        },
        "outputId": "2f514c14-143b-438a-d6ac-2d99286abf32"
      },
      "execution_count": 66,
      "outputs": [
        {
          "output_type": "stream",
          "name": "stdout",
          "text": [
            "Epoch 1/50\n",
            "43/43 [==============================] - 6s 24ms/step - loss: 0.0150 - accuracy: 0.9973 - val_loss: 6.3525e-06 - val_accuracy: 1.0000\n",
            "Epoch 2/50\n",
            "43/43 [==============================] - 1s 17ms/step - loss: 0.0131 - accuracy: 0.9975 - val_loss: 7.7536e-06 - val_accuracy: 1.0000\n",
            "Epoch 3/50\n",
            "43/43 [==============================] - 1s 17ms/step - loss: 0.0160 - accuracy: 0.9973 - val_loss: 4.9733e-05 - val_accuracy: 1.0000\n",
            "Epoch 4/50\n",
            "43/43 [==============================] - 1s 17ms/step - loss: 0.0175 - accuracy: 0.9970 - val_loss: 1.3929e-04 - val_accuracy: 1.0000\n",
            "Epoch 5/50\n",
            "43/43 [==============================] - 1s 18ms/step - loss: 0.0163 - accuracy: 0.9972 - val_loss: 4.5052e-06 - val_accuracy: 1.0000\n",
            "Epoch 6/50\n",
            "43/43 [==============================] - 1s 17ms/step - loss: 0.0113 - accuracy: 0.9977 - val_loss: 2.1342e-06 - val_accuracy: 1.0000\n",
            "Epoch 7/50\n",
            "43/43 [==============================] - 1s 22ms/step - loss: 0.0128 - accuracy: 0.9976 - val_loss: 1.0552e-04 - val_accuracy: 1.0000\n",
            "Epoch 8/50\n",
            "43/43 [==============================] - 1s 20ms/step - loss: 0.0123 - accuracy: 0.9969 - val_loss: 3.2129e-06 - val_accuracy: 1.0000\n",
            "Epoch 9/50\n",
            "43/43 [==============================] - 1s 22ms/step - loss: 0.0109 - accuracy: 0.9980 - val_loss: 6.6761e-06 - val_accuracy: 1.0000\n",
            "Epoch 10/50\n",
            "43/43 [==============================] - 1s 21ms/step - loss: 0.0126 - accuracy: 0.9980 - val_loss: 8.1520e-04 - val_accuracy: 0.9998\n",
            "Epoch 11/50\n",
            "43/43 [==============================] - 1s 25ms/step - loss: 0.0165 - accuracy: 0.9969 - val_loss: 8.1807e-05 - val_accuracy: 1.0000\n",
            "Epoch 12/50\n",
            "43/43 [==============================] - 1s 26ms/step - loss: 0.0153 - accuracy: 0.9971 - val_loss: 8.4830e-05 - val_accuracy: 1.0000\n",
            "Epoch 13/50\n",
            "43/43 [==============================] - 1s 26ms/step - loss: 0.0211 - accuracy: 0.9960 - val_loss: 4.2572e-05 - val_accuracy: 1.0000\n",
            "Epoch 14/50\n",
            "43/43 [==============================] - 1s 30ms/step - loss: 0.0167 - accuracy: 0.9969 - val_loss: 3.4813e-05 - val_accuracy: 1.0000\n",
            "Epoch 15/50\n",
            "43/43 [==============================] - 1s 19ms/step - loss: 0.0082 - accuracy: 0.9982 - val_loss: 3.9165e-05 - val_accuracy: 1.0000\n",
            "Epoch 16/50\n",
            "43/43 [==============================] - 1s 17ms/step - loss: 0.0098 - accuracy: 0.9983 - val_loss: 1.8519e-05 - val_accuracy: 1.0000\n",
            "Epoch 17/50\n",
            "43/43 [==============================] - 1s 17ms/step - loss: 0.0127 - accuracy: 0.9973 - val_loss: 1.0333e-05 - val_accuracy: 1.0000\n",
            "Epoch 18/50\n",
            "43/43 [==============================] - 1s 17ms/step - loss: 0.0243 - accuracy: 0.9954 - val_loss: 6.2956e-05 - val_accuracy: 1.0000\n",
            "Epoch 19/50\n",
            "43/43 [==============================] - 1s 17ms/step - loss: 0.0209 - accuracy: 0.9958 - val_loss: 3.2095e-05 - val_accuracy: 1.0000\n",
            "Epoch 20/50\n",
            "43/43 [==============================] - 1s 17ms/step - loss: 0.0146 - accuracy: 0.9975 - val_loss: 7.2982e-06 - val_accuracy: 1.0000\n",
            "Epoch 21/50\n",
            "43/43 [==============================] - 1s 17ms/step - loss: 0.0094 - accuracy: 0.9982 - val_loss: 1.0383e-05 - val_accuracy: 1.0000\n",
            "Epoch 22/50\n",
            "43/43 [==============================] - 1s 19ms/step - loss: 0.0127 - accuracy: 0.9969 - val_loss: 3.4839e-05 - val_accuracy: 1.0000\n",
            "Epoch 23/50\n",
            "43/43 [==============================] - 1s 20ms/step - loss: 0.0203 - accuracy: 0.9969 - val_loss: 1.1067e-04 - val_accuracy: 1.0000\n",
            "Epoch 24/50\n",
            "43/43 [==============================] - 1s 20ms/step - loss: 0.0088 - accuracy: 0.9981 - val_loss: 2.1604e-06 - val_accuracy: 1.0000\n",
            "Epoch 25/50\n",
            "43/43 [==============================] - 1s 23ms/step - loss: 0.0089 - accuracy: 0.9981 - val_loss: 1.9381e-05 - val_accuracy: 1.0000\n",
            "Epoch 26/50\n",
            "43/43 [==============================] - 1s 21ms/step - loss: 0.0151 - accuracy: 0.9968 - val_loss: 1.8213e-05 - val_accuracy: 1.0000\n",
            "Epoch 27/50\n",
            "43/43 [==============================] - 1s 18ms/step - loss: 0.0138 - accuracy: 0.9977 - val_loss: 3.4657e-05 - val_accuracy: 1.0000\n",
            "Epoch 28/50\n",
            "43/43 [==============================] - 1s 18ms/step - loss: 0.0160 - accuracy: 0.9961 - val_loss: 4.9205e-05 - val_accuracy: 1.0000\n",
            "Epoch 29/50\n",
            "43/43 [==============================] - 1s 18ms/step - loss: 0.0129 - accuracy: 0.9975 - val_loss: 2.4534e-05 - val_accuracy: 1.0000\n",
            "Epoch 30/50\n",
            "43/43 [==============================] - 1s 18ms/step - loss: 0.0105 - accuracy: 0.9980 - val_loss: 2.6401e-05 - val_accuracy: 1.0000\n",
            "Epoch 31/50\n",
            "43/43 [==============================] - 1s 18ms/step - loss: 0.0173 - accuracy: 0.9971 - val_loss: 4.3404e-05 - val_accuracy: 1.0000\n",
            "Epoch 32/50\n",
            "43/43 [==============================] - 1s 18ms/step - loss: 0.0087 - accuracy: 0.9983 - val_loss: 1.9202e-06 - val_accuracy: 1.0000\n",
            "Epoch 33/50\n",
            "43/43 [==============================] - 1s 18ms/step - loss: 0.0119 - accuracy: 0.9979 - val_loss: 2.2795e-06 - val_accuracy: 1.0000\n",
            "Epoch 34/50\n",
            "43/43 [==============================] - 1s 18ms/step - loss: 0.0134 - accuracy: 0.9969 - val_loss: 5.1840e-06 - val_accuracy: 1.0000\n",
            "Epoch 35/50\n",
            "43/43 [==============================] - 1s 17ms/step - loss: 0.0133 - accuracy: 0.9969 - val_loss: 5.4031e-05 - val_accuracy: 1.0000\n",
            "Epoch 36/50\n",
            "43/43 [==============================] - 1s 18ms/step - loss: 0.0083 - accuracy: 0.9984 - val_loss: 1.3817e-04 - val_accuracy: 1.0000\n",
            "Epoch 37/50\n",
            "43/43 [==============================] - 1s 18ms/step - loss: 0.0072 - accuracy: 0.9982 - val_loss: 8.2594e-06 - val_accuracy: 1.0000\n",
            "Epoch 38/50\n",
            "43/43 [==============================] - 1s 17ms/step - loss: 0.0097 - accuracy: 0.9977 - val_loss: 1.4726e-05 - val_accuracy: 1.0000\n",
            "Epoch 39/50\n",
            "43/43 [==============================] - 1s 17ms/step - loss: 0.0101 - accuracy: 0.9980 - val_loss: 6.7040e-06 - val_accuracy: 1.0000\n",
            "Epoch 40/50\n",
            "43/43 [==============================] - 1s 20ms/step - loss: 0.0078 - accuracy: 0.9985 - val_loss: 3.7051e-05 - val_accuracy: 1.0000\n",
            "Epoch 41/50\n",
            "43/43 [==============================] - 1s 23ms/step - loss: 0.0080 - accuracy: 0.9983 - val_loss: 4.1464e-05 - val_accuracy: 1.0000\n",
            "Epoch 42/50\n",
            "43/43 [==============================] - 1s 23ms/step - loss: 0.0070 - accuracy: 0.9981 - val_loss: 1.7393e-04 - val_accuracy: 1.0000\n",
            "Epoch 43/50\n",
            "43/43 [==============================] - 1s 20ms/step - loss: 0.0123 - accuracy: 0.9974 - val_loss: 3.1863e-05 - val_accuracy: 1.0000\n",
            "Epoch 44/50\n",
            "43/43 [==============================] - 1s 17ms/step - loss: 0.0122 - accuracy: 0.9978 - val_loss: 4.6944e-05 - val_accuracy: 1.0000\n",
            "Epoch 45/50\n",
            "43/43 [==============================] - 1s 17ms/step - loss: 0.0110 - accuracy: 0.9972 - val_loss: 8.3255e-06 - val_accuracy: 1.0000\n",
            "Epoch 46/50\n",
            "43/43 [==============================] - 1s 17ms/step - loss: 0.0103 - accuracy: 0.9979 - val_loss: 5.5165e-06 - val_accuracy: 1.0000\n",
            "Epoch 47/50\n",
            "43/43 [==============================] - 1s 17ms/step - loss: 0.0093 - accuracy: 0.9984 - val_loss: 2.4220e-04 - val_accuracy: 1.0000\n",
            "Epoch 48/50\n",
            "43/43 [==============================] - 1s 17ms/step - loss: 0.0125 - accuracy: 0.9974 - val_loss: 2.3712e-05 - val_accuracy: 1.0000\n",
            "Epoch 49/50\n",
            "43/43 [==============================] - 1s 17ms/step - loss: 0.0107 - accuracy: 0.9980 - val_loss: 1.3268e-05 - val_accuracy: 1.0000\n",
            "Epoch 50/50\n",
            "43/43 [==============================] - 1s 17ms/step - loss: 0.0058 - accuracy: 0.9987 - val_loss: 1.7457e-06 - val_accuracy: 1.0000\n"
          ]
        }
      ]
    },
    {
      "cell_type": "code",
      "source": [
        "#Visualizing the training performance\n",
        "plt.figure(figsize=(12, 8))\n",
        "\n",
        "plt.subplot(2, 2, 1)\n",
        "plt.plot(history.history['loss'], label='Loss')\n",
        "plt.plot(history.history['val_loss'], label='val_Loss')\n",
        "plt.legend()\n",
        "plt.grid()\n",
        "plt.title('Loss evolution')\n",
        "\n",
        "plt.subplot(2, 2, 2)\n",
        "plt.plot(history.history['accuracy'], label='accuracy')\n",
        "plt.plot(history.history['val_accuracy'], label='val_accuracy')\n",
        "plt.legend()\n",
        "plt.grid()\n",
        "plt.title('Accuracy evolution')"
      ],
      "metadata": {
        "id": "eASzjE187Cp2",
        "colab": {
          "base_uri": "https://localhost:8080/",
          "height": 361
        },
        "outputId": "2ec3dd42-937d-4cf4-bf5a-ed901b732f37"
      },
      "execution_count": 67,
      "outputs": [
        {
          "output_type": "execute_result",
          "data": {
            "text/plain": [
              "Text(0.5, 1.0, 'Accuracy evolution')"
            ]
          },
          "metadata": {},
          "execution_count": 67
        },
        {
          "output_type": "display_data",
          "data": {
            "text/plain": [
              "<Figure size 1200x800 with 2 Axes>"
            ],
            "image/png": "[encoded data removed]"
          },
          "metadata": {}
        }
      ]
    },
    {
      "cell_type": "code",
      "source": [
        "#Predictions for the test data\n",
        "(ls,acc)=cnn_model.evaluate(x=X_test,y=y_test)"
      ],
      "metadata": {
        "colab": {
          "base_uri": "https://localhost:8080/"
        },
        "id": "Y1NGlpbiVYIb",
        "outputId": "5a7a79ab-7150-4ec9-b9b2-8f8b31f802fd"
      },
      "execution_count": 68,
      "outputs": [
        {
          "output_type": "stream",
          "name": "stdout",
          "text": [
            "225/225 [==============================] - 1s 3ms/step - loss: 0.1940 - accuracy: 0.9769\n"
          ]
        }
      ]
    },
    {
      "cell_type": "code",
      "source": [
        "print('MODEL ACCURACY = {}%'.format(acc*100))"
      ],
      "metadata": {
        "colab": {
          "base_uri": "https://localhost:8080/"
        },
        "id": "MZiEsDdMVl_n",
        "outputId": "09cab792-fa25-47d6-84d7-d750754d8358"
      },
      "execution_count": 69,
      "outputs": [
        {
          "output_type": "stream",
          "name": "stdout",
          "text": [
            "MODEL ACCURACY = 97.68544435501099%\n"
          ]
        }
      ]
    },
    {
      "cell_type": "code",
      "source": [
        "# cnn_model.predict(np.expand_dims(X_test[0],axis=0)).round(2)"
      ],
      "metadata": {
        "colab": {
          "base_uri": "https://localhost:8080/"
        },
        "id": "3oNpzR3CX_Lf",
        "outputId": "deac24d8-4a51-4b48-d204-2d098d3e91bd"
      },
      "execution_count": null,
      "outputs": [
        {
          "output_type": "stream",
          "name": "stdout",
          "text": [
            "1/1 [==============================] - 0s 148ms/step\n"
          ]
        },
        {
          "output_type": "execute_result",
          "data": {
            "text/plain": [
              "array([[0., 0., 0., 0., 0., 0., 1., 0., 0., 0., 0., 0., 0., 0., 0., 0.,\n",
              "        0., 0., 0., 0., 0., 0., 0., 0., 0.]], dtype=float32)"
            ]
          },
          "metadata": {},
          "execution_count": 52
        }
      ]
    },
    {
      "cell_type": "code",
      "source": [
        "# np.argmax(cnn_model.predict(np.expand_dims(X_test[0],axis=0)).round(2))"
      ],
      "metadata": {
        "colab": {
          "base_uri": "https://localhost:8080/"
        },
        "id": "i1z2pSQsY_K1",
        "outputId": "35568c44-4e51-4aa6-f9af-224b0dc30ae5"
      },
      "execution_count": null,
      "outputs": [
        {
          "output_type": "stream",
          "name": "stdout",
          "text": [
            "1/1 [==============================] - 0s 19ms/step\n"
          ]
        },
        {
          "output_type": "execute_result",
          "data": {
            "text/plain": [
              "6"
            ]
          },
          "metadata": {},
          "execution_count": 53
        }
      ]
    },
    {
      "cell_type": "code",
      "source": [
        "# y_test[0]"
      ],
      "metadata": {
        "colab": {
          "base_uri": "https://localhost:8080/"
        },
        "id": "yXj2TRT4ZKy-",
        "outputId": "68d7821f-7650-4543-b969-80a8d63616da"
      },
      "execution_count": null,
      "outputs": [
        {
          "output_type": "execute_result",
          "data": {
            "text/plain": [
              "6.0"
            ]
          },
          "metadata": {},
          "execution_count": 54
        }
      ]
    },
    {
      "cell_type": "code",
      "source": [
        "# y_pred=cnn_model.predict(X_test).round(2)\n",
        "# y_pred"
      ],
      "metadata": {
        "colab": {
          "base_uri": "https://localhost:8080/"
        },
        "id": "NwfhLslwZZBT",
        "outputId": "e2f09bfb-8aa2-4354-e77c-4e5a092c4409"
      },
      "execution_count": null,
      "outputs": [
        {
          "output_type": "stream",
          "name": "stdout",
          "text": [
            "225/225 [==============================] - 0s 2ms/step\n"
          ]
        },
        {
          "output_type": "execute_result",
          "data": {
            "text/plain": [
              "array([[0., 0., 0., ..., 0., 0., 0.],\n",
              "       [0., 0., 0., ..., 0., 0., 0.],\n",
              "       [0., 0., 0., ..., 0., 0., 0.],\n",
              "       ...,\n",
              "       [0., 0., 1., ..., 0., 0., 0.],\n",
              "       [0., 0., 0., ..., 0., 0., 0.],\n",
              "       [0., 0., 1., ..., 0., 0., 0.]], dtype=float32)"
            ]
          },
          "metadata": {},
          "execution_count": 55
        }
      ]
    },
    {
      "cell_type": "code",
      "source": [
        "\n",
        "# (ls,acc)=cnn_model.evaluate(x=X_test,y=y_test)"
      ],
      "metadata": {
        "colab": {
          "base_uri": "https://localhost:8080/"
        },
        "id": "hC6zxnogZ5u7",
        "outputId": "387f9067-2f89-46da-a434-30c73c238dee"
      },
      "execution_count": null,
      "outputs": [
        {
          "output_type": "stream",
          "name": "stdout",
          "text": [
            "225/225 [==============================] - 1s 3ms/step - loss: 0.2032 - accuracy: 0.9667\n"
          ]
        }
      ]
    },
    {
      "cell_type": "code",
      "source": [
        "# plt.figure(figsize=(16, 30))\n",
        "# j=1\n",
        "# for i in np.random.randint(0,1000,60):\n",
        "#     plt.subplot(10, 6, j);j+=1\n",
        "#     plt.xticks([])\n",
        "#     plt.yticks([])\n",
        "#     plt.grid(False)\n",
        "#     plt.imshow(X_train[i].reshape((28,28)), cmap='Greys') \n",
        "#     # label_index = int(y_train[i])\n",
        "#     plt.axis('off')\n",
        "#     plt.title('Actual= {} / {} \\nPredi= {} / {}'.format(class_names[int(y_test[i])],int(y_test[i]),class_names[np.argmax(y_pred[i])],np.argmax(y_pred[i])))\n",
        "# plt.show()"
      ],
      "metadata": {
        "id": "hxI08ugsObEZ"
      },
      "execution_count": null,
      "outputs": []
    },
    {
      "cell_type": "code",
      "source": [
        "# Create function to match label to letter\n",
        "# def getLetter(result):\n",
        "#     classLabels = { 0: 'A',\n",
        "#                     1: 'B',\n",
        "#                     2: 'C',\n",
        "#                     3: 'D',\n",
        "#                     4: 'E',\n",
        "#                     5: 'F',\n",
        "#                     6: 'G',\n",
        "#                     7: 'H',\n",
        "#                     8: 'I',\n",
        "#                     9: 'K',\n",
        "    #                 10: 'L',\n",
        "    #                 11: 'M',\n",
        "    #                 12: 'N',\n",
        "    #                 13: 'O',\n",
        "    #                 14: 'P',\n",
        "    #                 15: 'Q',\n",
        "    #                 16: 'R',\n",
        "    #                 17: 'S',\n",
        "    #                 18: 'T',\n",
        "    #                 19: 'U',\n",
        "    #                 20: 'V',\n",
        "    #                 21: 'W',\n",
        "    #                 22: 'X',\n",
        "    #                 23: 'Y'}\n",
        "    # try:\n",
        "    #     res = int(result)\n",
        "    #     return classLabels[res]\n",
        "    # except:\n",
        "    #     return \"Error\""
      ],
      "metadata": {
        "id": "jZ-e8Tox9jk3"
      },
      "execution_count": null,
      "outputs": []
    },
    {
      "cell_type": "code",
      "source": [
        "# Drop Training Labels from our training data so we can separate it \n",
        "# train.drop('label', axis = 1, inplace = True)"
      ],
      "metadata": {
        "id": "kW5eiVvEEhle"
      },
      "execution_count": null,
      "outputs": []
    },
    {
      "cell_type": "code",
      "source": [
        "# Extract the image data from each row in our csv, remember it's in a row of 784 columns\n",
        "# images = train.values\n",
        "# images = np.array([np.reshape(i, (28, 28)) for i in images])\n",
        "# images = np.array([i.flatten() for i in images])"
      ],
      "metadata": {
        "id": "NPiuAdOhATRR"
      },
      "execution_count": null,
      "outputs": []
    },
    {
      "cell_type": "code",
      "source": [
        "# from google.colab.patches import cv2_imshow"
      ],
      "metadata": {
        "id": "OSPvWbZPFF6G"
      },
      "execution_count": null,
      "outputs": []
    },
    {
      "cell_type": "code",
      "source": [
        "# Use OpenCV to view 10 random images from our training data\n",
        "# import cv2\n",
        "# import numpy as np\n",
        "\n",
        "# for i in range(0,10):\n",
        "#     rand = np.random.randint(0, len(images))\n",
        "#     input_im = images[rand]\n",
        "\n",
        "#     sample = input_im.reshape(28,28).astype(np.uint8)\n",
        "#     # train_set[i,1:].reshape((28,28))\n",
        "#     sample = cv2.resize(sample, None, fx=10, fy=10, interpolation = cv2.INTER_CUBIC)\n",
        "#     cv2_imshow(sample)\n",
        "#     cv2.waitKey(0) \n",
        "    \n",
        "# cv2.destroyAllWindows()"
      ],
      "metadata": {
        "id": "AoNFmyOHCRhR"
      },
      "execution_count": null,
      "outputs": []
    },
    {
      "cell_type": "code",
      "source": [
        "# cap = cv2.VideoCapture(0)\n",
        "# if not cap.isOpened():\n",
        "#   print (\"Could not open cam\")\n",
        "#   exit()\n",
        "\n",
        "# while True:\n",
        "\n",
        "    # ret, frame = cap.read()\n",
        "    \n",
        "    ##############################\n",
        "    \n",
        "    # frame=cv2.flip(frame, 1)\n",
        "    \n",
        "    # #define region of interest\n",
        "    # roi = frame[100:400, 200:500]\n",
        "    # cv2.imshow('roi', roi)\n",
        "    # roi = cv2.cvtColor(roi, cv2.COLOR_BGR2GRAY)\n",
        "    # roi = cv2.resize(roi, (28, 28), interpolation = cv2.INTER_AREA)\n",
        "    \n",
        "    # cv2.imshow('roi sacled and gray', roi)\n",
        "    # copy = frame.copy()\n",
        "    # cv2.rectangle(copy, (320, 100), (620, 400), (255,0,0), 5)\n",
        "    \n",
        "    # roi = roi.reshape(1,28,28,1) \n",
        "\n",
        "    # result = str(cnn_model.predict_classes(roi, 1, verbose = 0)[0])\n",
        "    # cv2.putText(copy, getLetter(result), (300 , 100), cv2.FONT_HERSHEY_COMPLEX, 2, (0, 255, 0), 2)\n",
        "    # cv2.imshow('frame', copy)    \n",
        "    \n",
        "#     if cv2.waitKey(1) == 13:    #13 is the Enter Key\n",
        "#         break\n",
        "        \n",
        "# cap.release()\n",
        "# cv2.destroyAllWindows() "
      ],
      "metadata": {
        "id": "xVcTcBkbG6iA"
      },
      "execution_count": null,
      "outputs": []
    },
    {
      "cell_type": "code",
      "source": [
        "!pip install PyDrive"
      ],
      "metadata": {
        "colab": {
          "base_uri": "https://localhost:8080/"
        },
        "id": "G9VyEzJlrOSB",
        "outputId": "f180ee2a-df32-4acd-e944-6f4cad3833a0"
      },
      "execution_count": 70,
      "outputs": [
        {
          "output_type": "stream",
          "name": "stdout",
          "text": [
            "Looking in indexes: https://pypi.org/simple, https://us-python.pkg.dev/colab-wheels/public/simple/\n",
            "Requirement already satisfied: PyDrive in /usr/local/lib/python3.10/dist-packages (1.3.1)\n",
            "Requirement already satisfied: google-api-python-client>=1.2 in /usr/local/lib/python3.10/dist-packages (from PyDrive) (2.84.0)\n",
            "Requirement already satisfied: oauth2client>=4.0.0 in /usr/local/lib/python3.10/dist-packages (from PyDrive) (4.1.3)\n",
            "Requirement already satisfied: PyYAML>=3.0 in /usr/local/lib/python3.10/dist-packages (from PyDrive) (6.0)\n",
            "Requirement already satisfied: httplib2<1dev,>=0.15.0 in /usr/local/lib/python3.10/dist-packages (from google-api-python-client>=1.2->PyDrive) (0.21.0)\n",
            "Requirement already satisfied: google-auth<3.0.0dev,>=1.19.0 in /usr/local/lib/python3.10/dist-packages (from google-api-python-client>=1.2->PyDrive) (2.17.3)\n",
            "Requirement already satisfied: google-auth-httplib2>=0.1.0 in /usr/local/lib/python3.10/dist-packages (from google-api-python-client>=1.2->PyDrive) (0.1.0)\n",
            "Requirement already satisfied: google-api-core!=2.0.*,!=2.1.*,!=2.2.*,!=2.3.0,<3.0.0dev,>=1.31.5 in /usr/local/lib/python3.10/dist-packages (from google-api-python-client>=1.2->PyDrive) (2.11.0)\n",
            "Requirement already satisfied: uritemplate<5,>=3.0.1 in /usr/local/lib/python3.10/dist-packages (from google-api-python-client>=1.2->PyDrive) (4.1.1)\n",
            "Requirement already satisfied: pyasn1>=0.1.7 in /usr/local/lib/python3.10/dist-packages (from oauth2client>=4.0.0->PyDrive) (0.5.0)\n",
            "Requirement already satisfied: pyasn1-modules>=0.0.5 in /usr/local/lib/python3.10/dist-packages (from oauth2client>=4.0.0->PyDrive) (0.3.0)\n",
            "Requirement already satisfied: rsa>=3.1.4 in /usr/local/lib/python3.10/dist-packages (from oauth2client>=4.0.0->PyDrive) (4.9)\n",
            "Requirement already satisfied: six>=1.6.1 in /usr/local/lib/python3.10/dist-packages (from oauth2client>=4.0.0->PyDrive) (1.16.0)\n",
            "Requirement already satisfied: googleapis-common-protos<2.0dev,>=1.56.2 in /usr/local/lib/python3.10/dist-packages (from google-api-core!=2.0.*,!=2.1.*,!=2.2.*,!=2.3.0,<3.0.0dev,>=1.31.5->google-api-python-client>=1.2->PyDrive) (1.59.0)\n",
            "Requirement already satisfied: protobuf!=3.20.0,!=3.20.1,!=4.21.0,!=4.21.1,!=4.21.2,!=4.21.3,!=4.21.4,!=4.21.5,<5.0.0dev,>=3.19.5 in /usr/local/lib/python3.10/dist-packages (from google-api-core!=2.0.*,!=2.1.*,!=2.2.*,!=2.3.0,<3.0.0dev,>=1.31.5->google-api-python-client>=1.2->PyDrive) (3.20.3)\n",
            "Requirement already satisfied: requests<3.0.0dev,>=2.18.0 in /usr/local/lib/python3.10/dist-packages (from google-api-core!=2.0.*,!=2.1.*,!=2.2.*,!=2.3.0,<3.0.0dev,>=1.31.5->google-api-python-client>=1.2->PyDrive) (2.27.1)\n",
            "Requirement already satisfied: cachetools<6.0,>=2.0.0 in /usr/local/lib/python3.10/dist-packages (from google-auth<3.0.0dev,>=1.19.0->google-api-python-client>=1.2->PyDrive) (5.3.0)\n",
            "Requirement already satisfied: pyparsing!=3.0.0,!=3.0.1,!=3.0.2,!=3.0.3,<4,>=2.4.2 in /usr/local/lib/python3.10/dist-packages (from httplib2<1dev,>=0.15.0->google-api-python-client>=1.2->PyDrive) (3.0.9)\n",
            "Requirement already satisfied: urllib3<1.27,>=1.21.1 in /usr/local/lib/python3.10/dist-packages (from requests<3.0.0dev,>=2.18.0->google-api-core!=2.0.*,!=2.1.*,!=2.2.*,!=2.3.0,<3.0.0dev,>=1.31.5->google-api-python-client>=1.2->PyDrive) (1.26.15)\n",
            "Requirement already satisfied: certifi>=2017.4.17 in /usr/local/lib/python3.10/dist-packages (from requests<3.0.0dev,>=2.18.0->google-api-core!=2.0.*,!=2.1.*,!=2.2.*,!=2.3.0,<3.0.0dev,>=1.31.5->google-api-python-client>=1.2->PyDrive) (2022.12.7)\n",
            "Requirement already satisfied: charset-normalizer~=2.0.0 in /usr/local/lib/python3.10/dist-packages (from requests<3.0.0dev,>=2.18.0->google-api-core!=2.0.*,!=2.1.*,!=2.2.*,!=2.3.0,<3.0.0dev,>=1.31.5->google-api-python-client>=1.2->PyDrive) (2.0.12)\n",
            "Requirement already satisfied: idna<4,>=2.5 in /usr/local/lib/python3.10/dist-packages (from requests<3.0.0dev,>=2.18.0->google-api-core!=2.0.*,!=2.1.*,!=2.2.*,!=2.3.0,<3.0.0dev,>=1.31.5->google-api-python-client>=1.2->PyDrive) (3.4)\n"
          ]
        }
      ]
    },
    {
      "cell_type": "code",
      "source": [
        "!pip install google-colab"
      ],
      "metadata": {
        "colab": {
          "base_uri": "https://localhost:8080/"
        },
        "id": "sgI349yCrnlG",
        "outputId": "00acc2bd-6567-427b-af86-a87d5900d5e2"
      },
      "execution_count": 71,
      "outputs": [
        {
          "output_type": "stream",
          "name": "stdout",
          "text": [
            "Looking in indexes: https://pypi.org/simple, https://us-python.pkg.dev/colab-wheels/public/simple/\n",
            "Requirement already satisfied: google-colab in /usr/local/lib/python3.10/dist-packages (1.0.0)\n",
            "Requirement already satisfied: google-auth==2.17.3 in /usr/local/lib/python3.10/dist-packages (from google-colab) (2.17.3)\n",
            "Requirement already satisfied: ipykernel==5.5.6 in /usr/local/lib/python3.10/dist-packages (from google-colab) (5.5.6)\n",
            "Requirement already satisfied: ipython==7.34.0 in /usr/local/lib/python3.10/dist-packages (from google-colab) (7.34.0)\n",
            "Requirement already satisfied: notebook==6.4.8 in /usr/local/lib/python3.10/dist-packages (from google-colab) (6.4.8)\n",
            "Requirement already satisfied: pandas==1.5.3 in /usr/local/lib/python3.10/dist-packages (from google-colab) (1.5.3)\n",
            "Requirement already satisfied: portpicker==1.3.9 in /usr/local/lib/python3.10/dist-packages (from google-colab) (1.3.9)\n",
            "Requirement already satisfied: requests==2.27.1 in /usr/local/lib/python3.10/dist-packages (from google-colab) (2.27.1)\n",
            "Requirement already satisfied: tornado==6.3.1 in /usr/local/lib/python3.10/dist-packages (from google-colab) (6.3.1)\n",
            "Requirement already satisfied: cachetools<6.0,>=2.0.0 in /usr/local/lib/python3.10/dist-packages (from google-auth==2.17.3->google-colab) (5.3.0)\n",
            "Requirement already satisfied: pyasn1-modules>=0.2.1 in /usr/local/lib/python3.10/dist-packages (from google-auth==2.17.3->google-colab) (0.3.0)\n",
            "Requirement already satisfied: six>=1.9.0 in /usr/local/lib/python3.10/dist-packages (from google-auth==2.17.3->google-colab) (1.16.0)\n",
            "Requirement already satisfied: rsa<5,>=3.1.4 in /usr/local/lib/python3.10/dist-packages (from google-auth==2.17.3->google-colab) (4.9)\n",
            "Requirement already satisfied: ipython-genutils in /usr/local/lib/python3.10/dist-packages (from ipykernel==5.5.6->google-colab) (0.2.0)\n",
            "Requirement already satisfied: traitlets>=4.1.0 in /usr/local/lib/python3.10/dist-packages (from ipykernel==5.5.6->google-colab) (5.7.1)\n",
            "Requirement already satisfied: jupyter-client in /usr/local/lib/python3.10/dist-packages (from ipykernel==5.5.6->google-colab) (6.1.12)\n",
            "Requirement already satisfied: setuptools>=18.5 in /usr/local/lib/python3.10/dist-packages (from ipython==7.34.0->google-colab) (67.7.2)\n",
            "Collecting jedi>=0.16 (from ipython==7.34.0->google-colab)\n",
            "  Downloading jedi-0.18.2-py2.py3-none-any.whl (1.6 MB)\n",
            "\u001b[2K     \u001b[90m━━━━━━━━━━━━━━━━━━━━━━━━━━━━━━━━━━━━━━━━\u001b[0m \u001b[32m1.6/1.6 MB\u001b[0m \u001b[31m67.5 MB/s\u001b[0m eta \u001b[36m0:00:00\u001b[0m\n",
            "\u001b[?25hRequirement already satisfied: decorator in /usr/local/lib/python3.10/dist-packages (from ipython==7.34.0->google-colab) (4.4.2)\n",
            "Requirement already satisfied: pickleshare in /usr/local/lib/python3.10/dist-packages (from ipython==7.34.0->google-colab) (0.7.5)\n",
            "Requirement already satisfied: prompt-toolkit!=3.0.0,!=3.0.1,<3.1.0,>=2.0.0 in /usr/local/lib/python3.10/dist-packages (from ipython==7.34.0->google-colab) (3.0.38)\n",
            "Requirement already satisfied: pygments in /usr/local/lib/python3.10/dist-packages (from ipython==7.34.0->google-colab) (2.14.0)\n",
            "Requirement already satisfied: backcall in /usr/local/lib/python3.10/dist-packages (from ipython==7.34.0->google-colab) (0.2.0)\n",
            "Requirement already satisfied: matplotlib-inline in /usr/local/lib/python3.10/dist-packages (from ipython==7.34.0->google-colab) (0.1.6)\n",
            "Requirement already satisfied: pexpect>4.3 in /usr/local/lib/python3.10/dist-packages (from ipython==7.34.0->google-colab) (4.8.0)\n",
            "Requirement already satisfied: jinja2 in /usr/local/lib/python3.10/dist-packages (from notebook==6.4.8->google-colab) (3.1.2)\n",
            "Requirement already satisfied: pyzmq>=17 in /usr/local/lib/python3.10/dist-packages (from notebook==6.4.8->google-colab) (23.2.1)\n",
            "Requirement already satisfied: argon2-cffi in /usr/local/lib/python3.10/dist-packages (from notebook==6.4.8->google-colab) (21.3.0)\n",
            "Requirement already satisfied: jupyter-core>=4.6.1 in /usr/local/lib/python3.10/dist-packages (from notebook==6.4.8->google-colab) (5.3.0)\n",
            "Requirement already satisfied: nbformat in /usr/local/lib/python3.10/dist-packages (from notebook==6.4.8->google-colab) (5.8.0)\n",
            "Requirement already satisfied: nbconvert in /usr/local/lib/python3.10/dist-packages (from notebook==6.4.8->google-colab) (6.5.4)\n",
            "Requirement already satisfied: nest-asyncio>=1.5 in /usr/local/lib/python3.10/dist-packages (from notebook==6.4.8->google-colab) (1.5.6)\n",
            "Requirement already satisfied: Send2Trash>=1.8.0 in /usr/local/lib/python3.10/dist-packages (from notebook==6.4.8->google-colab) (1.8.0)\n",
            "Requirement already satisfied: terminado>=0.8.3 in /usr/local/lib/python3.10/dist-packages (from notebook==6.4.8->google-colab) (0.17.1)\n",
            "Requirement already satisfied: prometheus-client in /usr/local/lib/python3.10/dist-packages (from notebook==6.4.8->google-colab) (0.16.0)\n",
            "Requirement already satisfied: python-dateutil>=2.8.1 in /usr/local/lib/python3.10/dist-packages (from pandas==1.5.3->google-colab) (2.8.2)\n",
            "Requirement already satisfied: pytz>=2020.1 in /usr/local/lib/python3.10/dist-packages (from pandas==1.5.3->google-colab) (2022.7.1)\n",
            "Requirement already satisfied: numpy>=1.21.0 in /usr/local/lib/python3.10/dist-packages (from pandas==1.5.3->google-colab) (1.22.4)\n",
            "Requirement already satisfied: urllib3<1.27,>=1.21.1 in /usr/local/lib/python3.10/dist-packages (from requests==2.27.1->google-colab) (1.26.15)\n",
            "Requirement already satisfied: certifi>=2017.4.17 in /usr/local/lib/python3.10/dist-packages (from requests==2.27.1->google-colab) (2022.12.7)\n",
            "Requirement already satisfied: charset-normalizer~=2.0.0 in /usr/local/lib/python3.10/dist-packages (from requests==2.27.1->google-colab) (2.0.12)\n",
            "Requirement already satisfied: idna<4,>=2.5 in /usr/local/lib/python3.10/dist-packages (from requests==2.27.1->google-colab) (3.4)\n",
            "Requirement already satisfied: parso<0.9.0,>=0.8.0 in /usr/local/lib/python3.10/dist-packages (from jedi>=0.16->ipython==7.34.0->google-colab) (0.8.3)\n",
            "Requirement already satisfied: platformdirs>=2.5 in /usr/local/lib/python3.10/dist-packages (from jupyter-core>=4.6.1->notebook==6.4.8->google-colab) (3.3.0)\n",
            "Requirement already satisfied: ptyprocess>=0.5 in /usr/local/lib/python3.10/dist-packages (from pexpect>4.3->ipython==7.34.0->google-colab) (0.7.0)\n",
            "Requirement already satisfied: wcwidth in /usr/local/lib/python3.10/dist-packages (from prompt-toolkit!=3.0.0,!=3.0.1,<3.1.0,>=2.0.0->ipython==7.34.0->google-colab) (0.2.6)\n",
            "Requirement already satisfied: pyasn1<0.6.0,>=0.4.6 in /usr/local/lib/python3.10/dist-packages (from pyasn1-modules>=0.2.1->google-auth==2.17.3->google-colab) (0.5.0)\n",
            "Requirement already satisfied: argon2-cffi-bindings in /usr/local/lib/python3.10/dist-packages (from argon2-cffi->notebook==6.4.8->google-colab) (21.2.0)\n",
            "Requirement already satisfied: MarkupSafe>=2.0 in /usr/local/lib/python3.10/dist-packages (from jinja2->notebook==6.4.8->google-colab) (2.1.2)\n",
            "Requirement already satisfied: lxml in /usr/local/lib/python3.10/dist-packages (from nbconvert->notebook==6.4.8->google-colab) (4.9.2)\n",
            "Requirement already satisfied: beautifulsoup4 in /usr/local/lib/python3.10/dist-packages (from nbconvert->notebook==6.4.8->google-colab) (4.11.2)\n",
            "Requirement already satisfied: bleach in /usr/local/lib/python3.10/dist-packages (from nbconvert->notebook==6.4.8->google-colab) (6.0.0)\n",
            "Requirement already satisfied: defusedxml in /usr/local/lib/python3.10/dist-packages (from nbconvert->notebook==6.4.8->google-colab) (0.7.1)\n",
            "Requirement already satisfied: entrypoints>=0.2.2 in /usr/local/lib/python3.10/dist-packages (from nbconvert->notebook==6.4.8->google-colab) (0.4)\n",
            "Requirement already satisfied: jupyterlab-pygments in /usr/local/lib/python3.10/dist-packages (from nbconvert->notebook==6.4.8->google-colab) (0.2.2)\n",
            "Requirement already satisfied: mistune<2,>=0.8.1 in /usr/local/lib/python3.10/dist-packages (from nbconvert->notebook==6.4.8->google-colab) (0.8.4)\n",
            "Requirement already satisfied: nbclient>=0.5.0 in /usr/local/lib/python3.10/dist-packages (from nbconvert->notebook==6.4.8->google-colab) (0.7.4)\n",
            "Requirement already satisfied: packaging in /usr/local/lib/python3.10/dist-packages (from nbconvert->notebook==6.4.8->google-colab) (23.1)\n",
            "Requirement already satisfied: pandocfilters>=1.4.1 in /usr/local/lib/python3.10/dist-packages (from nbconvert->notebook==6.4.8->google-colab) (1.5.0)\n",
            "Requirement already satisfied: tinycss2 in /usr/local/lib/python3.10/dist-packages (from nbconvert->notebook==6.4.8->google-colab) (1.2.1)\n",
            "Requirement already satisfied: fastjsonschema in /usr/local/lib/python3.10/dist-packages (from nbformat->notebook==6.4.8->google-colab) (2.16.3)\n",
            "Requirement already satisfied: jsonschema>=2.6 in /usr/local/lib/python3.10/dist-packages (from nbformat->notebook==6.4.8->google-colab) (4.3.3)\n",
            "Requirement already satisfied: attrs>=17.4.0 in /usr/local/lib/python3.10/dist-packages (from jsonschema>=2.6->nbformat->notebook==6.4.8->google-colab) (23.1.0)\n",
            "Requirement already satisfied: pyrsistent!=0.17.0,!=0.17.1,!=0.17.2,>=0.14.0 in /usr/local/lib/python3.10/dist-packages (from jsonschema>=2.6->nbformat->notebook==6.4.8->google-colab) (0.19.3)\n",
            "Requirement already satisfied: cffi>=1.0.1 in /usr/local/lib/python3.10/dist-packages (from argon2-cffi-bindings->argon2-cffi->notebook==6.4.8->google-colab) (1.15.1)\n",
            "Requirement already satisfied: soupsieve>1.2 in /usr/local/lib/python3.10/dist-packages (from beautifulsoup4->nbconvert->notebook==6.4.8->google-colab) (2.4.1)\n",
            "Requirement already satisfied: webencodings in /usr/local/lib/python3.10/dist-packages (from bleach->nbconvert->notebook==6.4.8->google-colab) (0.5.1)\n",
            "Requirement already satisfied: pycparser in /usr/local/lib/python3.10/dist-packages (from cffi>=1.0.1->argon2-cffi-bindings->argon2-cffi->notebook==6.4.8->google-colab) (2.21)\n",
            "Installing collected packages: jedi\n",
            "Successfully installed jedi-0.18.2\n"
          ]
        }
      ]
    },
    {
      "cell_type": "code",
      "source": [
        "from google.colab import drive\n",
        "from pydrive.auth import GoogleAuth\n",
        "from pydrive.drive import GoogleDrive\n",
        "from google.colab import auth\n",
        "from oauth2client.client import GoogleCredentials\n",
        "cnn_model.save('CNNmodel.h5')"
      ],
      "metadata": {
        "id": "OoxnUWNvruUR"
      },
      "execution_count": 72,
      "outputs": []
    },
    {
      "cell_type": "code",
      "source": [
        "auth.authenticate_user()\n",
        "gauth = GoogleAuth()\n",
        "gauth.credentials = GoogleCredentials.get_application_default()\n",
        "drive = GoogleDrive(gauth)"
      ],
      "metadata": {
        "id": "SJfSWfWItP45"
      },
      "execution_count": 73,
      "outputs": []
    },
    {
      "cell_type": "code",
      "source": [
        "cn = 'CNNmodel.h5'\n",
        "file = drive.CreateFile({'title': 'cn'})\n",
        "file.SetContentFile(cn)\n",
        "file.Upload()\n",
        "\n",
        "file.get('id')\n",
        "# print(\"Model uploaded with file ID:\", file_id)"
      ],
      "metadata": {
        "colab": {
          "base_uri": "https://localhost:8080/",
          "height": 35
        },
        "id": "YbppHojusZZI",
        "outputId": "ff40037a-292f-4427-aaeb-194724e9ed72"
      },
      "execution_count": 74,
      "outputs": [
        {
          "output_type": "execute_result",
          "data": {
            "text/plain": [
              "'1ISLrxAfxNk3dB3VqLqN87pk9Nn0ytms6'"
            ],
            "application/vnd.google.colaboratory.intrinsic+json": {
              "type": "string"
            }
          },
          "metadata": {},
          "execution_count": 74
        }
      ]
    },
    {
      "cell_type": "code",
      "source": [
        "import cv2\n",
        "def main():\n",
        "    while True:  \n",
        "\n",
        "       # capturing the image from webcam \n",
        "       cam_capture = cv2.VideoCapture(0)\n",
        "       _, image_frame = cam_capture.read()\n",
        "  \n",
        "       # to crop required part\n",
        "       im2 = crop_image(image_frame, 300,300,300,300)\n",
        "\n",
        "       # convert to grayscale \n",
        "       image_grayscale = cv2.cvtColor(im2, cv2.COLOR_BGR2GRAY)\n",
        "    \n",
        "       # blurring the image \n",
        "       image_grayscale_blurred =cv2.GaussianBlur(image_grayscale, (15,15), 0)\n",
        "\n",
        "       # resize the image to 28x28\n",
        "       im3 = cv2.resize(image_grayscale_blurred, (28,28), interpolation = cv2.INTER_AREA)\n",
        "\n",
        "       # expand the dimensions from 28x28 to 1x28x28x1\n",
        "       im4 = np.resize(im3, (28, 28, 1))\n",
        "       im5 = np.expand_dims(im4, axis=0)"
      ],
      "metadata": {
        "id": "KzNoguwsu_6n"
      },
      "execution_count": 75,
      "outputs": []
    },
    {
      "cell_type": "code",
      "source": [
        "#model is our classifier and image is input image we are passing\n",
        "def keras_predict(model, image):\n",
        "    data = np.asarray( image, dtype=\"int32\" )\n",
        "    pred_probab = model.predict(data)[0]\n",
        "    \n",
        "    # softmax gives probability for all the alphabets hence we have to choose the maximum probability alphabet \n",
        "    pred_class = list(pred_probab).index(max(pred_probab))\n",
        "    return max(pred_probab), pred_class"
      ],
      "metadata": {
        "id": "XOfkWkThvXE2"
      },
      "execution_count": 76,
      "outputs": []
    },
    {
      "cell_type": "code",
      "source": [
        "!pip install h5py pyyaml "
      ],
      "metadata": {
        "colab": {
          "base_uri": "https://localhost:8080/"
        },
        "id": "zo0eqgg4yLEA",
        "outputId": "3db6837f-68ce-4559-afcd-276353defc45"
      },
      "execution_count": 77,
      "outputs": [
        {
          "output_type": "stream",
          "name": "stdout",
          "text": [
            "Looking in indexes: https://pypi.org/simple, https://us-python.pkg.dev/colab-wheels/public/simple/\n",
            "Requirement already satisfied: h5py in /usr/local/lib/python3.10/dist-packages (3.8.0)\n",
            "Requirement already satisfied: pyyaml in /usr/local/lib/python3.10/dist-packages (6.0)\n",
            "Requirement already satisfied: numpy>=1.14.5 in /usr/local/lib/python3.10/dist-packages (from h5py) (1.22.4)\n"
          ]
        }
      ]
    }
  ]
}